{
 "cells": [
  {
   "cell_type": "code",
   "execution_count": 1,
   "metadata": {
    "collapsed": false
   },
   "outputs": [],
   "source": [
    "import os\n",
    "import re\n",
    "import fnmatch\n",
    "import pandas as pd\n",
    "import numpy as np\n",
    "from sklearn.feature_extraction.text import TfidfVectorizer, CountVectorizer\n",
    "from sklearn.decomposition import LatentDirichletAllocation\n",
    "from sklearn.metrics.pairwise import cosine_similarity\n",
    "\n",
    "def vectorize(df):\n",
    "    nFeatures=1000\n",
    "    tf_vectorizer = CountVectorizer(max_df=0.85, min_df=0.2,\n",
    "                                max_features=nFeatures,\n",
    "                                stop_words='english', lowercase=True)\n",
    "    tf = tf_vectorizer.fit_transform(df)\n",
    "    features = tf_vectorizer.get_feature_names()\n",
    "    return (tf, features)\n",
    "\n",
    "def runLDA(n, iters, wordMat):\n",
    "    print('Number of inputs:', np.shape(wordMat)[0], '\\n')\n",
    "    lda = LatentDirichletAllocation(n_topics=n, max_iter=5,\n",
    "                                learning_method='batch',\n",
    "                                learning_offset=50.,\n",
    "                                random_state=0)\n",
    "    lda=lda.fit(wordMat)\n",
    "    return lda\n",
    "    \n",
    "def print_top_words(model, feature_names, n_top_words):\n",
    "    for topic_idx, topic in enumerate(model.components_):\n",
    "        print(\"Topic %d:\" % (topic_idx+1))\n",
    "        print(\" \".join([feature_names[i]\n",
    "                        for i in topic.argsort()[:-n_top_words - 1:-1]]))\n",
    "    print()\n",
    "    \n",
    "def print_topics(components, pred, features):\n",
    "    pred=list(pred[0])\n",
    "    topic_index=pred.index(max(pred))\n",
    "    topic=components[topic_index]\n",
    "    print(\" \".join([features[i] for i in topic.argsort()[:-10 - 1:-1]]))\n",
    "    print()\n",
    "    \n",
    "def predLDA(x, wordMat, features, model):\n",
    "    print(x[['Name', 'Genre', 'Console']])\n",
    "    r=wordMat[x.index.get_values()[0]]\n",
    "    topics=lda.transform(r)\n",
    "    print_topics(lda.components_, topics, features)\n",
    "\n",
    "def getSimilarGames(gameIndex, df, wordMat, lda): \n",
    "    mat1=wordMat.todense()\n",
    "    mat2=np.linalg.pinv(lda.components_)\n",
    "    x=mat1*mat2\n",
    "    cos=cosine_similarity(x)\n",
    "    game1=cos[gameIndex]\n",
    "    probs_sorted=sorted(game1, reverse=True)\n",
    "\n",
    "    ipGame=df.iloc[gameIndex]  \n",
    "    i=0\n",
    "    sim_games=[]\n",
    "    lstGames=set()\n",
    "    lstGames.add(ipGame[0])\n",
    "    print('Input Game:')\n",
    "    print(df.iloc[gameIndex], '\\n')\n",
    "    while(len(lstGames)<=5):\n",
    "        index=int(np.where(game1==probs_sorted[i])[0][0])\n",
    "        currentGame=df.iloc[index]\n",
    "        if currentGame[0] not in lstGames:\n",
    "            sim_games.append(df.iloc[index])\n",
    "            lstGames.add(currentGame[0])\n",
    "        i+=1\n",
    "    \n",
    "    print('Most similar games:')\n",
    "    for game in sim_games:\n",
    "        print(game)\n",
    "        print()  "
   ]
  },
  {
   "cell_type": "markdown",
   "metadata": {},
   "source": [
    "### Creating a pandas dataframe out of our dataset of reviews "
   ]
  },
  {
   "cell_type": "code",
   "execution_count": 2,
   "metadata": {
    "collapsed": false
   },
   "outputs": [],
   "source": [
    "df=pd.DataFrame(columns=['Name', 'Publisher', 'GameSpotScore', 'Review', 'Console', 'Genre'])\n",
    "\n",
    "i=0\n",
    "for dirpath, dirs, files in os.walk('dataset/reviews'):   \n",
    "    for file in fnmatch.filter(files, '*.txt'):\n",
    "        with open(os.path.join(dirpath, file), 'r') as ip:\n",
    "            data=ip.read()\n",
    "            name=re.findall(r':::Game Name:::(.*?)-----', data, re.DOTALL)[0].strip()\n",
    "            review=re.findall(r':::Review:::(.*?)-----',data, re.DOTALL)[0].strip()\n",
    "            scores=re.findall(r':::Scores:::(.*?)-----',data, re.DOTALL)[0]\n",
    "            addition=re.findall(r':::Addition:::(.*?)-----',data, re.DOTALL)[0]\n",
    "            gsScore=re.findall(r'GameSpot Score:(.*?)\\n', scores)[0]\n",
    "            try:\n",
    "                pub=re.findall(r'Publisher:(.*?)\\n', addition)[0]\n",
    "            except:\n",
    "                pub=''\n",
    "            try:\n",
    "                genre=re.findall(r'Genre:(.*?)\\n', addition)[0]\n",
    "            except:\n",
    "                genre=''\n",
    "            console=dirpath.strip('dataset/reviews/')\n",
    "            df.loc[i]=[name, pub, gsScore, review, console, genre]\n",
    "            i+=1"
   ]
  },
  {
   "cell_type": "markdown",
   "metadata": {},
   "source": [
    "###  Running LDA to get topics. Choosing number of topics = 10 and word per topic = 10"
   ]
  },
  {
   "cell_type": "code",
   "execution_count": 3,
   "metadata": {
    "collapsed": false
   },
   "outputs": [
    {
     "name": "stdout",
     "output_type": "stream",
     "text": [
      "Number of inputs: 4303 \n",
      "\n",
      "Topic 1:\n",
      "ll new just make need world different way don look\n",
      "Topic 2:\n",
      "mode screen ll just play player multiplayer single modes make\n",
      "Topic 3:\n",
      "players play player online new games mode team year series\n",
      "Topic 4:\n",
      "games just pc play version good mode ll real really\n",
      "Topic 5:\n",
      "new battle combat battles war strategy campaign real map turn\n",
      "Topic 6:\n",
      "ll enemies story just action characters good use make way\n",
      "Topic 7:\n",
      "ll control strategy real team games enemy good different play\n",
      "Topic 8:\n",
      "missions mission campaign just games multiplayer ll enemy good war\n",
      "Topic 9:\n",
      "weapons ll enemies levels level multiplayer action enemy player single\n",
      "Topic 10:\n",
      "character characters ll games just playing story make levels way\n",
      "\n"
     ]
    }
   ],
   "source": [
    "n=10\n",
    "iters=5\n",
    "nWords=10\n",
    "wordMat, features=vectorize(df['Review'])\n",
    "lda=runLDA(n, iters, wordMat)\n",
    "print_top_words(lda, features, nWords)"
   ]
  },
  {
   "cell_type": "markdown",
   "metadata": {},
   "source": [
    "### Running lda only on top 10 publishers having maximum game releases"
   ]
  },
  {
   "cell_type": "code",
   "execution_count": 4,
   "metadata": {
    "collapsed": false
   },
   "outputs": [
    {
     "name": "stdout",
     "output_type": "stream",
     "text": [
      "Number of inputs: 1465 \n",
      "\n",
      "Topic 1:\n",
      "enemies action level good enemy fight make bad way pretty\n",
      "Topic 2:\n",
      "combat battle war missions battles enemy campaign characters enemies action\n",
      "Topic 3:\n",
      "play games good gameplay screen make 3d graphics action new\n",
      "Topic 4:\n",
      "games character new characters world life make way experience series\n",
      "Topic 5:\n",
      "version xbox 360 pc way versions look story good play\n",
      "Topic 6:\n",
      "strategy real games new building make different play interface need\n",
      "Topic 7:\n",
      "players play new player mode year team online games series\n",
      "Topic 8:\n",
      "games player play players team multiplayer online mode single campaign\n",
      "Topic 9:\n",
      "speed mode need track events different good games little way\n",
      "Topic 10:\n",
      "new original missions weapons mission levels multiplayer good level single\n",
      "\n"
     ]
    }
   ],
   "source": [
    "df2=df[['Name', 'Publisher']].groupby(['Publisher']).count()\n",
    "df2=df2.sort_values(['Name'], ascending=False).head(10)\n",
    "topPubs= (list(df2.axes[0]))\n",
    "topPubReviewsDf=df[df['Publisher'].isin(topPubs)]\n",
    "\n",
    "n=10\n",
    "iters=5\n",
    "nWords=10\n",
    "wordMat, features=vectorize(topPubReviewsDf['Review'])\n",
    "lda=runLDA(n, iters, wordMat)\n",
    "print_top_words(lda, features, nWords)"
   ]
  },
  {
   "cell_type": "markdown",
   "metadata": {},
   "source": [
    "### Running for games that have a GameSpot Rating of 8 or above"
   ]
  },
  {
   "cell_type": "code",
   "execution_count": 5,
   "metadata": {
    "collapsed": false
   },
   "outputs": [
    {
     "name": "stdout",
     "output_type": "stream",
     "text": [
      "Number of inputs: 1108 \n",
      "\n",
      "Topic 1:\n",
      "levels mode level ll new play games screen just moves\n",
      "Topic 2:\n",
      "ll action enemies weapons story just way use games good\n",
      "Topic 3:\n",
      "character ll characters playing games just new role combat different\n",
      "Topic 4:\n",
      "strategy battle war games real ll play battles different campaign\n",
      "Topic 5:\n",
      "players play player team mode ll year online games just\n",
      "Topic 6:\n",
      "missions mission combat campaign multiplayer enemy war ll games single\n",
      "Topic 7:\n",
      "new original players multiplayer player play features campaign just great\n",
      "Topic 8:\n",
      "ll just track good speed make real really need way\n",
      "Topic 9:\n",
      "ii original sequel day new battle different players graphics mode\n",
      "Topic 10:\n",
      "play ll online players games world mode new just make\n",
      "\n"
     ]
    }
   ],
   "source": [
    "df['GameSpotScore'] =pd.to_numeric(df['GameSpotScore'])\n",
    "topDf=df[df['GameSpotScore']>=8]\n",
    "\n",
    "n=10\n",
    "iters=5\n",
    "nWords=10\n",
    "wordMat, features=vectorize(topDf['Review'])\n",
    "lda=runLDA(n, iters, wordMat)\n",
    "print_top_words(lda, features, nWords)"
   ]
  },
  {
   "cell_type": "markdown",
   "metadata": {},
   "source": [
    "### Running for games that have a GameSpot Rating of 3 or below"
   ]
  },
  {
   "cell_type": "code",
   "execution_count": 6,
   "metadata": {
    "collapsed": false
   },
   "outputs": [
    {
     "name": "stdout",
     "output_type": "stream",
     "text": [
      "Number of inputs: 133 \n",
      "\n",
      "Topic 1:\n",
      "mode ll player screen play make attack sound gameplay battle\n",
      "Topic 2:\n",
      "missions way ll mission time start feel combat place trying\n",
      "Topic 3:\n",
      "jump fun games running possible ll simple clear series good\n",
      "Topic 4:\n",
      "way time level mission control broken isn play bad make\n",
      "Topic 5:\n",
      "games combat look ll way pc life bad completely work\n",
      "Topic 6:\n",
      "ll time make way really actually doesn right problems good\n",
      "Topic 7:\n",
      "time games play real way missions computer strategy players don\n",
      "Topic 8:\n",
      "ll real life experience fun control level time character high\n",
      "Topic 9:\n",
      "ll enemies world weapons play shooter don levels good person\n",
      "Topic 10:\n",
      "ll characters action level bad time enemies character levels play\n",
      "\n"
     ]
    }
   ],
   "source": [
    "df['GameSpotScore'] =pd.to_numeric(df['GameSpotScore'])\n",
    "botDf=df[df['GameSpotScore']<=3]\n",
    "# print((botDf))\n",
    "n=10\n",
    "iters=5\n",
    "nWords=10\n",
    "wordMat, features=vectorize(botDf['Review'])\n",
    "lda=runLDA(n, iters, wordMat)\n",
    "print_top_words(lda, features, nWords)"
   ]
  },
  {
   "cell_type": "markdown",
   "metadata": {},
   "source": [
    "### Filtering dataset based on Genres and performing LDA on top 5 genres"
   ]
  },
  {
   "cell_type": "code",
   "execution_count": 7,
   "metadata": {
    "collapsed": false
   },
   "outputs": [
    {
     "name": "stdout",
     "output_type": "stream",
     "text": [
      " Action\n",
      "Number of inputs: 355 \n",
      "\n",
      "Topic 1:\n",
      "ll time action like just play games good new make\n",
      "Topic 2:\n",
      "new missions like mission gameplay just make graphics level levels\n",
      "Topic 3:\n",
      "ll enemies like just time combat enemy level good way\n",
      "Topic 4:\n",
      "levels level time ll mode screen play characters player like\n",
      "Topic 5:\n",
      "games play like just ll characters gameplay playing isn make\n",
      "\n",
      " Adventure\n",
      "Number of inputs: 300 \n",
      "\n",
      "Topic 1:\n",
      "puzzles adventure myst games just story puzzle time little make\n",
      "Topic 2:\n",
      "ll dark case characters new adventure items order story gameplay\n",
      "Topic 3:\n",
      "ll puzzles time just adventure character play bad characters make\n",
      "Topic 4:\n",
      "ll just characters time adventure story games make good way\n",
      "Topic 5:\n",
      "video ll games time just clues doesn hard click end\n",
      "\n",
      " Strategy\n",
      "Number of inputs: 296 \n",
      "\n",
      "Topic 1:\n",
      "units enemy mission missions unit real 3d command strategy combat\n",
      "Topic 2:\n",
      "battles battle play great fun games good place campaign want\n",
      "Topic 3:\n",
      "units war games strategy real unit combat scenarios good new\n",
      "Topic 4:\n",
      "new original ii strategy just play games ll players combat\n",
      "Topic 5:\n",
      "ll just make play building games need little build way\n",
      "\n",
      " Role-Playing\n",
      "Number of inputs: 140 \n",
      "\n",
      "Topic 1:\n",
      "final new characters fantasy ds story battle screen quest use\n",
      "Topic 2:\n",
      "monsters battle characters world enemies combat points character magic use\n",
      "Topic 3:\n",
      "battle battles new combat party world make fun light way\n",
      "Topic 4:\n",
      "dungeon games story dungeons play new previous way world version\n",
      "Topic 5:\n",
      "character characters role new games combat good different play quests\n",
      "\n",
      " Sci-Fi First-Person...\n",
      "Number of inputs: 138 \n",
      "\n",
      "Topic 1:\n",
      "quake pc version xbox 360 multiplayer enemies doesn make player\n",
      "Topic 2:\n",
      "player dark multiplayer shooter good single play enemies person action\n",
      "Topic 3:\n",
      "team new mode maps players vehicles multiplayer play player games\n",
      "Topic 4:\n",
      "life half force new shooter person enemies good action way\n",
      "Topic 5:\n",
      "new level levels alien doom enemies action original play aliens\n",
      "\n"
     ]
    }
   ],
   "source": [
    "genres=df[['Name']].groupby(df['Genre']).count()\n",
    "genres=genres.sort_values(['Name'], ascending=False).head(5)\n",
    "genres=list(genres.axes[0])\n",
    "\n",
    "for genre in genres:\n",
    "    df_genre=df[(df['Genre'] == genre)]\n",
    "    print(genre)\n",
    "    n=5\n",
    "    iters=5\n",
    "    nWords=10\n",
    "    wordMat, features=vectorize(df_genre['Review'])\n",
    "    lda=runLDA(n, iters, wordMat)\n",
    "    print_top_words(lda, features, nWords)"
   ]
  },
  {
   "cell_type": "markdown",
   "metadata": {},
   "source": [
    "### Below we are trying to find similar games based on a given game. We have taken the cosine between vectors as a measure of similarity to find top 5 games with maximum similarity "
   ]
  },
  {
   "cell_type": "code",
   "execution_count": 8,
   "metadata": {
    "collapsed": false
   },
   "outputs": [
    {
     "name": "stdout",
     "output_type": "stream",
     "text": [
      "Number of inputs: 4303 \n",
      "\n"
     ]
    }
   ],
   "source": [
    "wordMat, features=vectorize(df['Review'])\n",
    "lda=runLDA(n, iters, wordMat)"
   ]
  },
  {
   "cell_type": "code",
   "execution_count": 9,
   "metadata": {
    "collapsed": false
   },
   "outputs": [
    {
     "name": "stdout",
     "output_type": "stream",
     "text": [
      "Input Game:\n",
      "Name                                           Grand Theft Auto IV\n",
      "Publisher                                           Rockstar Games\n",
      "GameSpotScore                                                   10\n",
      "Review           A superb single-player story mode and online s...\n",
      "Console                                                        ps3\n",
      "Genre                                      Modern Action Adventure\n",
      "Name: 3525, dtype: object \n",
      "\n",
      "Most similar games:\n",
      "Name                                 Red Orchestra: Ostfront 41-45\n",
      "Publisher                                           Valve Software\n",
      "GameSpotScore                                                  7.9\n",
      "Review           Red Orchestra is an enjoyable, team-based onli...\n",
      "Console                                                         PC\n",
      "Genre                                     Historic First-Person...\n",
      "Name: 2407, dtype: object\n",
      "\n",
      "Name                                      Full Auto 2: Battlelines\n",
      "Publisher                                                     Sega\n",
      "GameSpotScore                                                  5.7\n",
      "Review           Full Auto 2 is technically proficient, but alm...\n",
      "Console                                                        ps3\n",
      "Genre                                                   Car Combat\n",
      "Name: 3522, dtype: object\n",
      "\n",
      "Name                                                 VR Soccer '96\n",
      "Publisher                                                VR Sports\n",
      "GameSpotScore                                                  6.9\n",
      "Review           For the most part, VR Soccer has the style and...\n",
      "Console                                                         PC\n",
      "Genre                                                   Soccer Sim\n",
      "Name: 3279, dtype: object\n",
      "\n",
      "Name                                                 Rocket Jockey\n",
      "Publisher                                                 SegaSoft\n",
      "GameSpotScore                                                  7.6\n",
      "Review           You won't be disappointed with this novel new ...\n",
      "Console                                                         PC\n",
      "Genre                                                       Action\n",
      "Name: 2458, dtype: object\n",
      "\n",
      "Name                              Tom Clancy's Rainbow Six Vegas 2\n",
      "Publisher                                                  Ubisoft\n",
      "GameSpotScore                                                  8.5\n",
      "Review           Rainbow Six Vegas 2 isn't the best sequel ever...\n",
      "Console                                                        ps3\n",
      "Genre                                      Modern Tactical Shooter\n",
      "Name: 3664, dtype: object\n",
      "\n"
     ]
    }
   ],
   "source": [
    "gameIndex=3525\n",
    "getSimilarGames(gameIndex, df, wordMat, lda)"
   ]
  },
  {
   "cell_type": "code",
   "execution_count": 10,
   "metadata": {
    "collapsed": false
   },
   "outputs": [
    {
     "name": "stdout",
     "output_type": "stream",
     "text": [
      "Input Game:\n",
      "Name                                                FIFA Soccer 08\n",
      "Publisher                                                EA Sports\n",
      "GameSpotScore                                                  8.5\n",
      "Review           The first FIFA for the PS3 is an impressive de...\n",
      "Console                                                        ps3\n",
      "Genre                                                   Soccer Sim\n",
      "Name: 3515, dtype: object \n",
      "\n",
      "Most similar games:\n",
      "Name                                                   NBA Live 99\n",
      "Publisher                                                EA Sports\n",
      "GameSpotScore                                                  8.9\n",
      "Review           When you strip away all the great new graphics...\n",
      "Console                                                         PC\n",
      "Genre                                               Basketball Sim\n",
      "Name: 2108, dtype: object\n",
      "\n",
      "Name                                                    Top Spin 3\n",
      "Publisher                                                2K Sports\n",
      "GameSpotScore                                                    8\n",
      "Review           Top Spin 3 is a great tennis game, offering a ...\n",
      "Console                                                        ps3\n",
      "Genre                                                       Tennis\n",
      "Name: 3668, dtype: object\n",
      "\n",
      "Name                                    Out of the Park Baseball 5\n",
      "Publisher                             Out Of The Park Developments\n",
      "GameSpotScore                                                  8.5\n",
      "Review           Out of the Park Baseball 5 improves on the ser...\n",
      "Console                                                         PC\n",
      "Genre                                          Baseball Management\n",
      "Name: 2221, dtype: object\n",
      "\n",
      "Name                                    Out of the Park Baseball 6\n",
      "Publisher                             Out Of The Park Developments\n",
      "GameSpotScore                                                  8.6\n",
      "Review           Out of the Park Baseball 6 may look a lot like...\n",
      "Console                                                         PC\n",
      "Genre                                          Baseball Management\n",
      "Name: 2223, dtype: object\n",
      "\n",
      "Name                                  FIFA World Cup: Germany 2006\n",
      "Publisher                                          Electronic Arts\n",
      "GameSpotScore                                                  8.1\n",
      "Review           2006 FIFA World Cup does a good job of re-crea...\n",
      "Console                                                         PC\n",
      "Genre                                                   Soccer Sim\n",
      "Name: 1354, dtype: object\n",
      "\n"
     ]
    }
   ],
   "source": [
    "gameIndex=3515\n",
    "getSimilarGames(gameIndex, df, wordMat, lda)"
   ]
  },
  {
   "cell_type": "code",
   "execution_count": 11,
   "metadata": {
    "collapsed": false
   },
   "outputs": [
    {
     "name": "stdout",
     "output_type": "stream",
     "text": [
      "Input Game:\n",
      "Name                                           The Incredible Hulk\n",
      "Publisher                                                     Sega\n",
      "GameSpotScore                                                  5.5\n",
      "Review           You won't like it when this simplistic, repeti...\n",
      "Console                                                    Xbox360\n",
      "Genre                                                       Action\n",
      "Name: 4236, dtype: object \n",
      "\n",
      "Most similar games:\n",
      "Name                                             Warriors Orochi 2\n",
      "Publisher                                                     Koei\n",
      "GameSpotScore                                                    4\n",
      "Review           Warriors Orochi 2 elevates hack-and-slash acti...\n",
      "Console                                                    Xbox360\n",
      "Genre                                                  Beat-'Em-Up\n",
      "Name: 4288, dtype: object\n",
      "\n",
      "Name                             Lionheart: Legacy of the Crusader\n",
      "Publisher                                                Interplay\n",
      "GameSpotScore                                                  6.5\n",
      "Review           If you've played and enjoyed earlier RPGs from...\n",
      "Console                                                         PC\n",
      "Genre                                        Computer Role-Playing\n",
      "Name: 1855, dtype: object\n",
      "\n",
      "Name                                          Impossible Creatures\n",
      "Publisher                                   Microsoft Game Studios\n",
      "GameSpotScore                                                  7.9\n",
      "Review           Though the actual battles in Impossible Creatu...\n",
      "Console                                                         PC\n",
      "Genre                                           Real-Time Strategy\n",
      "Name: 1679, dtype: object\n",
      "\n",
      "Name                                                    Dead Space\n",
      "Publisher                                          Electronic Arts\n",
      "GameSpotScore                                                    9\n",
      "Review           An incredibly atmospheric and disturbingly gru...\n",
      "Console                                                         PC\n",
      "Genre                                               Sci-Fi Shooter\n",
      "Name: 1053, dtype: object\n",
      "\n",
      "Name                                           Crusader: No Regret\n",
      "Publisher                                          Electronic Arts\n",
      "GameSpotScore                                                  8.9\n",
      "Review           Everything that was good about the first game ...\n",
      "Console                                                         PC\n",
      "Genre                                      Sci-Fi Action Adventure\n",
      "Name: 983, dtype: object\n",
      "\n"
     ]
    }
   ],
   "source": [
    "gameIndex=4236\n",
    "getSimilarGames(gameIndex, df, wordMat, lda)"
   ]
  },
  {
   "cell_type": "code",
   "execution_count": 12,
   "metadata": {
    "collapsed": false
   },
   "outputs": [
    {
     "name": "stdout",
     "output_type": "stream",
     "text": [
      "Input Game:\n",
      "Name                                    WWE SmackDown vs. Raw 2009\n",
      "Publisher                                                      THQ\n",
      "GameSpotScore                                                  7.5\n",
      "Review           SmackDown vs. Raw 2009 successfully returns to...\n",
      "Console                                                        ps3\n",
      "Genre                                                    Wrestling\n",
      "Name: 3687, dtype: object \n",
      "\n",
      "Most similar games:\n",
      "Name                                        Mario Strikers Charged\n",
      "Publisher                                                 Nintendo\n",
      "GameSpotScore                                                  7.5\n",
      "Review           Mario's soccer sequel is a markedly more enjoy...\n",
      "Console                                                          W\n",
      "Genre                                                       Soccer\n",
      "Name: 3793, dtype: object\n",
      "\n",
      "Name                              Tom Clancy's Rainbow Six Vegas 2\n",
      "Publisher                                                  Ubisoft\n",
      "GameSpotScore                                                  8.5\n",
      "Review           Rainbow Six Vegas 2 isn't the best sequel ever...\n",
      "Console                                                        ps3\n",
      "Genre                                      Modern Tactical Shooter\n",
      "Name: 3664, dtype: object\n",
      "\n",
      "Name                     Winning Eleven: Pro Evolution Soccer 2007\n",
      "Publisher                                                   Konami\n",
      "GameSpotScore                                                  6.9\n",
      "Review           Konami's first attempt at bringing the seminal...\n",
      "Console                                                         DS\n",
      "Genre                                                   Soccer Sim\n",
      "Name: 428, dtype: object\n",
      "\n",
      "Name                                              Peggle Dual Shot\n",
      "Publisher                                                   PopCap\n",
      "GameSpotScore                                                  7.5\n",
      "Review           Peggle Dual Shot is a faithful translation of ...\n",
      "Console                                                         DS\n",
      "Genre                                                       Puzzle\n",
      "Name: 265, dtype: object\n",
      "\n",
      "Name                                                    Hardball 5\n",
      "Publisher                                                 Accolade\n",
      "GameSpotScore                                                  8.4\n",
      "Review           Once you get used to having the pitch coming r...\n",
      "Console                                                         PC\n",
      "Genre                                                 Baseball Sim\n",
      "Name: 1547, dtype: object\n",
      "\n"
     ]
    }
   ],
   "source": [
    "gameIndex=3687\n",
    "getSimilarGames(gameIndex, df, wordMat, lda)"
   ]
  },
  {
   "cell_type": "code",
   "execution_count": 13,
   "metadata": {
    "collapsed": false
   },
   "outputs": [
    {
     "name": "stdout",
     "output_type": "stream",
     "text": [
      "Input Game:\n",
      "Name                                                Call of Duty 3\n",
      "Publisher                                               Activision\n",
      "GameSpotScore                                                  8.2\n",
      "Review           Though it plays like many other WWII-based fir...\n",
      "Console                                                        ps3\n",
      "Genre                                     Historic First-Person...\n",
      "Name: 3485, dtype: object \n",
      "\n",
      "Most similar games:\n",
      "Name                                    50 Cent: Blood on the Sand\n",
      "Publisher                                                      THQ\n",
      "GameSpotScore                                                    7\n",
      "Review           Over-the-top thug swagger and solid gameplay h...\n",
      "Console                                                    Xbox360\n",
      "Genre                                               Modern Shooter\n",
      "Name: 3939, dtype: object\n",
      "\n",
      "Name                                                  Saints Row 2\n",
      "Publisher                                                      THQ\n",
      "GameSpotScore                                                    8\n",
      "Review           Saints Row 2 is crass, immature, and really fu...\n",
      "Console                                                    Xbox360\n",
      "Genre                                      Modern Action Adventure\n",
      "Name: 4186, dtype: object\n",
      "\n",
      "Name                                                America's Army\n",
      "Publisher                                               U. S. Army\n",
      "GameSpotScore                                                  8.4\n",
      "Review           At best, it can be an unusually intense game t...\n",
      "Console                                                         PC\n",
      "Genre                                      Modern Tactical Shooter\n",
      "Name: 545, dtype: object\n",
      "\n",
      "Name                                                  Bullet Witch\n",
      "Publisher                                                    Atari\n",
      "GameSpotScore                                                  5.5\n",
      "Review           The few moments when Bullet Witch shines are i...\n",
      "Console                                                    Xbox360\n",
      "Genre                                               Sci-Fi Shooter\n",
      "Name: 3973, dtype: object\n",
      "\n",
      "Name                                                      Infernal\n",
      "Publisher                                        Eidos Interactive\n",
      "GameSpotScore                                                  5.9\n",
      "Review           Infernal embraces style over substance, result...\n",
      "Console                                                         PC\n",
      "Genre                                              Fantasy Shooter\n",
      "Name: 1696, dtype: object\n",
      "\n"
     ]
    }
   ],
   "source": [
    "gameIndex=3485\n",
    "getSimilarGames(gameIndex, df, wordMat, lda)"
   ]
  }
 ],
 "metadata": {
  "kernelspec": {
   "display_name": "Python 3",
   "language": "python",
   "name": "python3"
  },
  "language_info": {
   "codemirror_mode": {
    "name": "ipython",
    "version": 3
   },
   "file_extension": ".py",
   "mimetype": "text/x-python",
   "name": "python",
   "nbconvert_exporter": "python",
   "pygments_lexer": "ipython3",
   "version": "3.5.2"
  }
 },
 "nbformat": 4,
 "nbformat_minor": 2
}

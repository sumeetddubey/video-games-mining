{
 "cells": [
  {
   "cell_type": "code",
   "execution_count": 122,
   "metadata": {
    "collapsed": false
   },
   "outputs": [],
   "source": [
    "import os\n",
    "import re\n",
    "import fnmatch\n",
    "import pandas as pd\n",
    "from sklearn.feature_extraction.text import TfidfVectorizer, CountVectorizer\n",
    "from sklearn.decomposition import LatentDirichletAllocation\n",
    "\n",
    "def vectorize(df):\n",
    "    nFeatures=10000\n",
    "    tf_vectorizer = CountVectorizer(max_df=0.85, min_df=2,\n",
    "                                max_features=nFeatures,\n",
    "                                stop_words='english', lowercase=True)\n",
    "    tf = tf_vectorizer.fit_transform(df)\n",
    "    features = tf_vectorizer.get_feature_names()\n",
    "    return (tf, features)\n",
    "\n",
    "\n",
    "def runLDA(n, iters, wordMat):\n",
    "    lda = LatentDirichletAllocation(n_topics=n, max_iter=5,\n",
    "                                learning_method='batch',\n",
    "                                learning_offset=50.,\n",
    "                                random_state=0)\n",
    "    lda=lda.fit(wordMat)\n",
    "    return lda\n",
    "    \n",
    "def print_top_words(model, feature_names, n_top_words):\n",
    "    for topic_idx, topic in enumerate(model.components_):\n",
    "        print(\"Topic #%d:\" % topic_idx)\n",
    "        print(\" \".join([feature_names[i]\n",
    "                        for i in topic.argsort()[:-n_top_words - 1:-1]]))\n",
    "    print()"
   ]
  },
  {
   "cell_type": "code",
   "execution_count": 123,
   "metadata": {
    "collapsed": false
   },
   "outputs": [
    {
     "name": "stdout",
     "output_type": "stream",
     "text": [
      "Topic #0:\n",
      "combat sonic level don attack ve look story enemies use\n",
      "Topic #1:\n",
      "skate new games vegas city little tricks fun online makes\n",
      "Topic #2:\n",
      "racing mode race online games new vehicle units nbsp player\n",
      "Topic #3:\n",
      "racer ridge online race series car cars mode tracks singstar\n",
      "Topic #4:\n",
      "characters enemies action mode attacks character fight fighting new story\n",
      "Topic #5:\n",
      "racing race car games cars events mode 360 gameplay races\n",
      "Topic #6:\n",
      "players player mode year ball new online games team great\n",
      "Topic #7:\n",
      "player far version online games series new makes playstation action\n",
      "Topic #8:\n",
      "new action campaign multiplayer enemies enemy guitar fun player games\n",
      "Topic #9:\n",
      "games look man new team points bad players spider don\n",
      "\n"
     ]
    }
   ],
   "source": [
    "reviews=[]\n",
    "for file in os.listdir('dataset/reviews/ps3'):\n",
    "    with open('dataset/reviews/ps3/'+file, 'r') as ip:\n",
    "        data=ip.read()\n",
    "        review=re.findall(r':::Review:::(.*?):::User Reviews:::', data, re.DOTALL)\n",
    "        review=str(review)\n",
    "        reviews.append(review)\n",
    "\n",
    "n=10\n",
    "iters=5\n",
    "nWords=10\n",
    "\n",
    "wordMat, features=vectorize(reviews)\n",
    "lda=runLDA(n, iters, wordMat)\n",
    "print_top_words(lda, features, nWords)"
   ]
  },
  {
   "cell_type": "code",
   "execution_count": 124,
   "metadata": {
    "collapsed": false
   },
   "outputs": [],
   "source": [
    "df=pd.DataFrame(columns=['Name', 'Publisher', 'GameSpotScore', 'Review'])\n",
    "\n",
    "i=0\n",
    "for dirpath, dirs, files in os.walk('dataset/reviews'):   \n",
    "    for file in fnmatch.filter(files, '*.txt'):\n",
    "        with open(os.path.join(dirpath, file), 'r') as ip:\n",
    "            data=ip.read()\n",
    "            name=re.findall(r':::Game Name:::(.*?)-----', data, re.DOTALL)[0].strip()\n",
    "            review=re.findall(r':::Review:::(.*?)-----',data, re.DOTALL)[0].strip()\n",
    "            scores=re.findall(r':::Scores:::(.*?)-----',data, re.DOTALL)[0]\n",
    "            addition=re.findall(r':::Addition:::(.*?)-----',data, re.DOTALL)[0]\n",
    "            gsScore=re.findall(r'GameSpot Score:(.*?)\\n', scores)[0]\n",
    "            try:\n",
    "                pub=re.findall(r'Publisher:(.*?)\\n', addition)[0]\n",
    "            except:\n",
    "                pub=''\n",
    "            df.loc[i]=[name, pub, gsScore, review]\n",
    "            i+=1"
   ]
  },
  {
   "cell_type": "code",
   "execution_count": 125,
   "metadata": {
    "collapsed": false
   },
   "outputs": [
    {
     "name": "stdout",
     "output_type": "stream",
     "text": [
      "Topic #0:\n",
      "games enemies characters good fun puzzles story play make adventure\n",
      "Topic #1:\n",
      "play players new player games mode team year ball fifa\n",
      "Topic #2:\n",
      "new combat weapons character good characters multiplayer games missions play\n",
      "Topic #3:\n",
      "units strategy new games real campaign play battle enemy good\n",
      "Topic #4:\n",
      "mode new play way nbsp make imgelem good year fun\n",
      "Topic #5:\n",
      "new sims characters levels use character make way look ve\n",
      "Topic #6:\n",
      "golf flight tiger play ball new course tour woods games\n",
      "Topic #7:\n",
      "action enemies good way play gameplay make isn little enemy\n",
      "Topic #8:\n",
      "action version mode good pc multiplayer quake missions play single\n",
      "Topic #9:\n",
      "racing car cars race mode version good games way make\n",
      "\n"
     ]
    }
   ],
   "source": [
    "df2=df[['Name', 'Publisher']].groupby(['Publisher']).count()\n",
    "df2=df2.sort_values(['Name'], ascending=False).head(10)\n",
    "topPubs= (list(df2.axes[0]))\n",
    "topPubReviewsDf=df[df['Publisher'].isin(topPubs)]\n",
    "\n",
    "n=10\n",
    "iters=5\n",
    "nWords=10\n",
    "wordMat, features=vectorize(topPubReviewsDf['Review'])\n",
    "lda=runLDA(n, iters, wordMat)\n",
    "print_top_words(lda, features, nWords)"
   ]
  },
  {
   "cell_type": "code",
   "execution_count": 126,
   "metadata": {
    "collapsed": false
   },
   "outputs": [
    {
     "name": "stdout",
     "output_type": "stream",
     "text": [
      "1157\n",
      "Topic #0:\n",
      "ll just nhl play good new make ve action games\n",
      "Topic #1:\n",
      "racing car race cars ll track real new driving mode\n",
      "Topic #2:\n",
      "units strategy new games battle ll combat war real play\n",
      "Topic #3:\n",
      "ll new multiplayer games missions just action good weapons single\n",
      "Topic #4:\n",
      "games new just ll amp play action players multiplayer ve\n",
      "Topic #5:\n",
      "nba ll prince live play new make just monkey games\n",
      "Topic #6:\n",
      "new character ll characters playing games world just players role\n",
      "Topic #7:\n",
      "ll missions mission just new play weapons games story team\n",
      "Topic #8:\n",
      "ll tony hawk mode games tricks new just make way\n",
      "Topic #9:\n",
      "play players player mode ll games new ball online just\n",
      "\n"
     ]
    }
   ],
   "source": [
    "df['GameSpotScore'] =pd.to_numeric(df['GameSpotScore'])\n",
    "topDf=df[df['GameSpotScore']>=8]\n",
    "\n",
    "print(len(topDf))\n",
    "n=10\n",
    "iters=5\n",
    "nWords=10\n",
    "wordMat, features=vectorize(topDf['Review'])\n",
    "lda=runLDA(n, iters, wordMat)\n",
    "print_top_words(lda, features, nWords)"
   ]
  },
  {
   "cell_type": "code",
   "execution_count": 127,
   "metadata": {
    "collapsed": false
   },
   "outputs": [
    {
     "name": "stdout",
     "output_type": "stream",
     "text": [
      "Topic #0:\n",
      "mortyr nazis time mirage attempting futuristic kill world unoriginal hate\n",
      "Topic #1:\n",
      "sonic time level big make graphics ll way actually gameplay\n",
      "Topic #2:\n",
      "blitz nfl emergency 2002 heroes city missions series single order\n",
      "Topic #3:\n",
      "ll games characters time play don way isn look mode\n",
      "Topic #4:\n",
      "ll ambulance way crazy problems driver screen sniper make life\n",
      "Topic #5:\n",
      "ll play bad time make games level good way look\n",
      "Topic #6:\n",
      "games command iii ships ll time computer screen ship way\n",
      "Topic #7:\n",
      "combat ll larry bust office time box outlaw missions make\n",
      "Topic #8:\n",
      "ll play world events games way weapons enemies don time\n",
      "Topic #9:\n",
      "units time unit real ll way control mission games events\n",
      "\n"
     ]
    }
   ],
   "source": [
    "df['GameSpotScore'] =pd.to_numeric(df['GameSpotScore'])\n",
    "botDf=df[df['GameSpotScore']<=3]\n",
    "\n",
    "n=10\n",
    "iters=5\n",
    "nWords=10\n",
    "wordMat, features=vectorize(botDf['Review'])\n",
    "lda=runLDA(n, iters, wordMat)\n",
    "print_top_words(lda, features, nWords)"
   ]
  },
  {
   "cell_type": "code",
   "execution_count": null,
   "metadata": {
    "collapsed": true
   },
   "outputs": [],
   "source": []
  }
 ],
 "metadata": {
  "kernelspec": {
   "display_name": "Python 3",
   "language": "python",
   "name": "python3"
  }
 },
 "nbformat": 4,
 "nbformat_minor": 2
}

{
 "cells": [
  {
   "cell_type": "code",
   "execution_count": 25,
   "metadata": {
    "collapsed": false
   },
   "outputs": [],
   "source": [
    "from slda.topic_models import SLDA\n",
    "from functools import partial\n",
    "from sklearn.metrics import (mean_squared_error)\n",
    "from sklearn.feature_extraction.text import TfidfVectorizer, CountVectorizer\n",
    "import seaborn as sns\n",
    "import matplotlib.pyplot as plt\n",
    "import numpy as np\n",
    "import pandas as pd\n",
    "import os\n",
    "import fnmatch\n",
    "import re\n",
    "\n",
    "def vectorize(df):\n",
    "    nFeatures=1000\n",
    "    tf_vectorizer = CountVectorizer(max_df=0.85, min_df=0.2,\n",
    "                                max_features=nFeatures,\n",
    "                                stop_words='english', lowercase=True)\n",
    "    tf = tf_vectorizer.fit_transform(df)\n",
    "    features = tf_vectorizer.get_feature_names()\n",
    "    return (tf, features)\n",
    "\n",
    "def sldaPred(model, wordMat, n_iter):\n",
    "    burn_in = max(n_iter - 100, int(n_iter / 2))\n",
    "    model.loglikelihoods[burn_in:].mean()\n",
    "    eta_pred = model.eta[burn_in:].mean(axis=0)\n",
    "\n",
    "\n",
    "    thetas_test_slda = model.transform(wordMat)\n",
    "    y_slda = [np.dot(eta_pred, thetas_test_slda[i]) for i in range(1)]\n",
    "    return y_slda"
   ]
  },
  {
   "cell_type": "code",
   "execution_count": 2,
   "metadata": {
    "collapsed": false
   },
   "outputs": [],
   "source": [
    "df=pd.DataFrame(columns=['Name', 'Publisher', 'GameSpotScore', 'Review', 'Console', 'Genre'])\n",
    "\n",
    "i=0\n",
    "for dirpath, dirs, files in os.walk('dataset/reviews'):   \n",
    "    for file in fnmatch.filter(files, '*.txt'):\n",
    "        with open(os.path.join(dirpath, file), 'r') as ip:\n",
    "            data=ip.read()\n",
    "            name=re.findall(r':::Game Name:::(.*?)-----', data, re.DOTALL)[0].strip()\n",
    "            review=re.findall(r':::Review:::(.*?)-----',data, re.DOTALL)[0].strip()\n",
    "            scores=re.findall(r':::Scores:::(.*?)-----',data, re.DOTALL)[0]\n",
    "            addition=re.findall(r':::Addition:::(.*?)-----',data, re.DOTALL)[0]\n",
    "            gsScore=re.findall(r'GameSpot Score:(.*?)\\n', scores)[0]\n",
    "            try:\n",
    "                pub=re.findall(r'Publisher:(.*?)\\n', addition)[0]\n",
    "            except:\n",
    "                pub=''\n",
    "            try:\n",
    "                genre=re.findall(r'Genre:(.*?)\\n', addition)[0]\n",
    "            except:\n",
    "                genre=''\n",
    "            console=dirpath.strip('dataset/reviews/')\n",
    "            df.loc[i]=[name, pub, gsScore, review, console, genre]\n",
    "            i+=1"
   ]
  },
  {
   "cell_type": "code",
   "execution_count": 3,
   "metadata": {
    "collapsed": false
   },
   "outputs": [
    {
     "name": "stdout",
     "output_type": "stream",
     "text": [
      "(1284, 357)\n",
      "(1284,)\n",
      "2017-04-15 04:47:23.645557 start iterations\n",
      "2017-04-15 04:47:25.698296 0:00:02.052739 elapsed, iter   10, LL -751579.0513, 22.86% change from last\n",
      "2017-04-15 04:47:27.716015 0:00:04.070458 elapsed, iter   20, LL -647199.2320, 13.89% change from last\n",
      "2017-04-15 04:47:29.655565 0:00:06.010008 elapsed, iter   30, LL -616476.0055, 4.75% change from last\n",
      "2017-04-15 04:47:31.719098 0:00:08.073541 elapsed, iter   40, LL -599361.2020, 2.78% change from last\n",
      "2017-04-15 04:47:33.716963 0:00:10.071406 elapsed, iter   50, LL -586913.4028, 2.08% change from last\n",
      "2017-04-15 04:47:35.767637 0:00:12.122080 elapsed, iter   60, LL -580260.4417, 1.13% change from last\n",
      "2017-04-15 04:47:37.871395 0:00:14.225838 elapsed, iter   70, LL -573728.1130, 1.13% change from last\n",
      "2017-04-15 04:47:39.850078 0:00:16.204521 elapsed, iter   80, LL -569200.8962, 0.79% change from last\n",
      "2017-04-15 04:47:41.754955 0:00:18.109398 elapsed, iter   90, LL -564501.4282, 0.83% change from last\n",
      "2017-04-15 04:47:43.697433 0:00:20.051876 elapsed, iter  100, LL -561915.2307, 0.46% change from last\n",
      "2017-04-15 04:47:45.620845 0:00:21.975288 elapsed, iter  110, LL -559772.5313, 0.38% change from last\n",
      "2017-04-15 04:47:47.550209 0:00:23.904652 elapsed, iter  120, LL -557822.2684, 0.35% change from last\n",
      "2017-04-15 04:47:49.467826 0:00:25.822269 elapsed, iter  130, LL -557300.0022, 0.09% change from last\n",
      "2017-04-15 04:47:51.438823 0:00:27.793266 elapsed, iter  140, LL -554893.6295, 0.43% change from last\n",
      "2017-04-15 04:47:53.497758 0:00:29.852201 elapsed, iter  150, LL -552514.2403, 0.43% change from last\n",
      "2017-04-15 04:47:55.382183 0:00:31.736626 elapsed, iter  160, LL -550069.2903, 0.44% change from last\n",
      "2017-04-15 04:47:57.290467 0:00:33.644910 elapsed, iter  170, LL -551013.2311, -0.17% change from last\n",
      "2017-04-15 04:47:59.501471 0:00:35.855914 elapsed, iter  180, LL -549786.5896, 0.22% change from last\n",
      "2017-04-15 04:48:01.619956 0:00:37.974399 elapsed, iter  190, LL -549661.7924, 0.02% change from last\n",
      "[[  2.74074872e-03   3.70321406e-07   3.70321406e-07 ...,   3.70321406e-07\n",
      "    3.70321406e-07   3.70321406e-07]\n",
      " [  3.62668007e-03   2.33964265e-07   2.33964265e-07 ...,   2.33964265e-07\n",
      "    2.33964265e-07   2.33964265e-07]\n",
      " [  5.95969291e-05   2.96502135e-07   2.96502135e-07 ...,   2.96502135e-07\n",
      "    2.96502135e-07   2.96502135e-07]\n",
      " ..., \n",
      " [  3.27079893e-07   3.27079893e-07   1.73028534e-02 ...,   3.27079893e-07\n",
      "    3.27079893e-07   1.17781469e-03]\n",
      " [  3.31954946e-07   3.31954946e-07   3.98677890e-04 ...,   3.31954946e-07\n",
      "    3.80755642e-02   9.56063439e-03]\n",
      " [  3.45404412e-07   3.45404412e-07   3.45404412e-07 ...,   3.45404412e-07\n",
      "    3.45404412e-07   3.45404412e-07]]\n"
     ]
    }
   ],
   "source": [
    "df['GameSpotScore'] =pd.to_numeric(df['GameSpotScore'])\n",
    "wordMat, features=vectorize(df['Review'])\n",
    "\n",
    "res=df['GameSpotScore']\n",
    "res=list(res)\n",
    "res=np.array(res)\n",
    "print(np.shape(wordMat))\n",
    "print(np.shape(res))\n",
    "\n",
    "K=10\n",
    "D=len(df)\n",
    "V=len(features)\n",
    "nu2 = 10\n",
    "sigma2 = 1\n",
    "\n",
    "alpha = np.ones(K)\n",
    "np.random.seed(42)\n",
    "thetas = np.random.dirichlet(alpha, size=D)\n",
    "np.random.seed(42)\n",
    "eta = np.random.normal(scale=nu2, size=K)\n",
    "\n",
    "\n",
    "_K = 10\n",
    "_alpha = alpha\n",
    "_beta = np.repeat(0.01, V)\n",
    "_mu = 0\n",
    "_nu2 = nu2\n",
    "_sigma2 = sigma2\n",
    "n_iter = 200\n",
    "slda = SLDA(_K, _alpha, _beta, _mu, _nu2, _sigma2, n_iter, seed=42)\n",
    "\n",
    "\n",
    "slda.fit(wordMat, res)\n",
    "print(slda.phi)"
   ]
  },
  {
   "cell_type": "code",
   "execution_count": 17,
   "metadata": {
    "collapsed": false
   },
   "outputs": [
    {
     "name": "stdout",
     "output_type": "stream",
     "text": [
      "(2, 2)\n",
      "(1, 2)\n",
      "[[1 2]\n",
      " [1 1]\n",
      " [1 1]]\n"
     ]
    }
   ],
   "source": [
    "arr1=np.array([[1, 2], [1, 1]])\n",
    "arr2=np.array([[1,1]])\n",
    "print(np.shape(arr1))\n",
    "print(np.shape(arr2))\n",
    "arr3=np.append(arr1, arr2, axis=0)\n",
    "print(arr3)"
   ]
  },
  {
   "cell_type": "code",
   "execution_count": 47,
   "metadata": {
    "collapsed": false
   },
   "outputs": [
    {
     "name": "stdout",
     "output_type": "stream",
     "text": [
      "Looney Tunes: Cartoon Conductor Original Rating: 6.5 Predicted Rating: 7.03179018896\n",
      "MotoGP 08 Original Rating: 7.0 Predicted Rating: 7.79764327106\n",
      "Ninja Gaiden II Original Rating: 8.0 Predicted Rating: 6.27744116472\n"
     ]
    }
   ],
   "source": [
    "game1=df[(df['Console']=='DS')].ix[np.random.choice(df[(df['Console']=='DS')].index, 1)]\n",
    "game2=df[(df['Console']=='ps3')].ix[np.random.choice(df[(df['Console']=='ps3')].index, 1)]\n",
    "game3=df[(df['Console']=='Xbox360')].ix[np.random.choice(df[(df['Console']=='Xbox360')].index, 1)]\n",
    "\n",
    "wordMat1=wordMat[game1.index.get_values()[0]]\n",
    "wordMat2=wordMat[game2.index.get_values()[0]]\n",
    "wordMat3=wordMat[game3.index.get_values()[0]]\n",
    "\n",
    "\n",
    "y1=sldaPred(slda, wordMat1, 200)\n",
    "y2=sldaPred(slda, wordMat2, 200)\n",
    "y3=sldaPred(slda, wordMat3, 200)\n",
    "\n",
    "print(game1['Name'].values[0], 'Original Rating:',game1['GameSpotScore'].values[0], 'Predicted Rating:', y1[0])\n",
    "print(game2['Name'].values[0], 'Original Rating:',game2['GameSpotScore'].values[0], 'Predicted Rating:', y2[0])\n",
    "print(game3['Name'].values[0], 'Original Rating:',game3['GameSpotScore'].values[0], 'Predicted Rating:', y3[0])"
   ]
  },
  {
   "cell_type": "code",
   "execution_count": null,
   "metadata": {
    "collapsed": true
   },
   "outputs": [],
   "source": []
  }
 ],
 "metadata": {
  "kernelspec": {
   "display_name": "Python 3",
   "language": "python",
   "name": "python3"
  },
  "language_info": {
   "codemirror_mode": {
    "name": "ipython",
    "version": 3
   },
   "file_extension": ".py",
   "mimetype": "text/x-python",
   "name": "python",
   "nbconvert_exporter": "python",
   "pygments_lexer": "ipython3",
   "version": "3.5.2"
  }
 },
 "nbformat": 4,
 "nbformat_minor": 2
}

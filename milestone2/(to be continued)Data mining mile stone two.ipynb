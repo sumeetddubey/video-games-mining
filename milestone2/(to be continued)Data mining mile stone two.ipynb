{
 "cells": [
  {
   "cell_type": "code",
   "execution_count": 379,
   "metadata": {
    "collapsed": false,
    "deletable": true,
    "editable": true
   },
   "outputs": [],
   "source": [
    "import pandas as pd\n",
    "import numpy as np\n",
    "import matplotlib.pyplot as plt\n",
    "import seaborn as sns\n",
    "from pandas import Series\n",
    "from math import ceil\n",
    "from pandas import get_dummies\n",
    "from __future__ import division\n",
    "from sklearn.model_selection import train_test_split\n",
    "from sklearn.ensemble import RandomForestClassifier\n",
    "from sklearn.feature_selection import SelectFromModel\n",
    "from sklearn import svm\n",
    "from sklearn.neural_network import MLPClassifier"
   ]
  },
  {
   "cell_type": "code",
   "execution_count": 380,
   "metadata": {
    "collapsed": false,
    "deletable": true,
    "editable": true
   },
   "outputs": [],
   "source": [
    "datafram = pd.read_csv('game.csv', encoding=\"utf-8\")\n",
    "filtercolum = datafram[['Name','Platform','Genre','Publisher','Year_of_Release','Critic_Score','Global_Sales','User_Score']]\n",
    "dropemptycolum = filtercolum.dropna() .reset_index(drop=True)\n",
    "filtercolum1 = dropemptycolum[dropemptycolum['Global_Sales'] < 1]"
   ]
  },
  {
   "cell_type": "code",
   "execution_count": 381,
   "metadata": {
    "collapsed": false,
    "deletable": true,
    "editable": true
   },
   "outputs": [],
   "source": [
    "extractfeature=dropemptycolum[['Platform','Genre','Publisher','Year_of_Release','Critic_Score','Global_Sales','User_Score']]\n",
    "extractfeature['PopularGames'] = extractfeature['Global_Sales']\n",
    "# extractfeature"
   ]
  },
  {
   "cell_type": "code",
   "execution_count": 382,
   "metadata": {
    "collapsed": false,
    "deletable": true,
    "editable": true
   },
   "outputs": [],
   "source": [
    "extractfeature.drop('Global_Sales', axis=1, inplace=True)"
   ]
  },
  {
   "cell_type": "code",
   "execution_count": 383,
   "metadata": {
    "collapsed": false,
    "deletable": true,
    "editable": true
   },
   "outputs": [],
   "source": [
    "def filtersales(x):\n",
    "    if x >= 1:\n",
    "        return 1\n",
    "    else:\n",
    "        return 0\n",
    "    \n",
    "def filterrate(x):\n",
    "    if x >= 8:\n",
    "        return 1\n",
    "    elif x>=5 and x<8 :\n",
    "        return 2\n",
    "    elif x< 5:\n",
    "        return 3\n",
    "\n",
    "extractfeature['PopularGames'] = extractfeature['PopularGames'].apply(lambda x: filtersales(x))\n",
    "extractfeature['User_Score'] = extractfeature['User_Score'].apply(lambda x: filterrate(x))"
   ]
  },
  {
   "cell_type": "code",
   "execution_count": 384,
   "metadata": {
    "collapsed": true,
    "deletable": true,
    "editable": true
   },
   "outputs": [],
   "source": [
    "dumpfeatures = pd.get_dummies(extractfeature)"
   ]
  },
  {
   "cell_type": "code",
   "execution_count": 385,
   "metadata": {
    "collapsed": false,
    "deletable": true,
    "editable": true
   },
   "outputs": [],
   "source": [
    "ytrainningset = dumpfeatures['PopularGames'].values\n",
    "dumpfeatures1 = dumpfeatures.drop(['PopularGames'],axis=1)\n",
    "xtrainningset  = dumpfeatures1.values"
   ]
  },
  {
   "cell_type": "code",
   "execution_count": 386,
   "metadata": {
    "collapsed": false,
    "deletable": true,
    "editable": true
   },
   "outputs": [],
   "source": [
    "trainningx, testingx, trainningy, testingy = train_test_split(xtrainningset, ytrainningset, test_size=0.50, random_state=2)"
   ]
  },
  {
   "cell_type": "code",
   "execution_count": 387,
   "metadata": {
    "collapsed": true
   },
   "outputs": [],
   "source": [
    "def valid(x,y):\n",
    "    count = 0 \n",
    "#     print(len(x))\n",
    "    for i in range(len(x)):\n",
    "        if x[i] == y[i]:\n",
    "            count = count + 1\n",
    "#             print(count)\n",
    "    vc = count/len(y)\n",
    "    return vc"
   ]
  },
  {
   "cell_type": "code",
   "execution_count": 388,
   "metadata": {
    "collapsed": false,
    "deletable": true,
    "editable": true
   },
   "outputs": [],
   "source": [
    "clf = MLPClassifier(solver='lbfgs', alpha=1e-5, hidden_layer_sizes=(5, 2), random_state=1)\n",
    "clf.fit(trainningx, trainningy)\n",
    "pred=clf.predict(testingx)"
   ]
  },
  {
   "cell_type": "code",
   "execution_count": 389,
   "metadata": {
    "collapsed": false,
    "deletable": true,
    "editable": true
   },
   "outputs": [],
   "source": [
    "randommodel = RandomForestClassifier(random_state=2).fit(Xtrain, ytrain)\n",
    "randomy = randommodel.predict(testingx)"
   ]
  },
  {
   "cell_type": "code",
   "execution_count": 390,
   "metadata": {
    "collapsed": false,
    "deletable": true,
    "editable": true
   },
   "outputs": [
    {
     "data": {
      "text/plain": [
       "0.8274213836477987"
      ]
     },
     "execution_count": 390,
     "metadata": {},
     "output_type": "execute_result"
    }
   ],
   "source": [
    "valid(pred,testingy)"
   ]
  },
  {
   "cell_type": "code",
   "execution_count": 391,
   "metadata": {
    "collapsed": false
   },
   "outputs": [
    {
     "data": {
      "text/plain": [
       "0.8510691823899371"
      ]
     },
     "execution_count": 391,
     "metadata": {},
     "output_type": "execute_result"
    }
   ],
   "source": [
    "valid(randomy,testingy)"
   ]
  },
  {
   "cell_type": "code",
   "execution_count": 392,
   "metadata": {
    "collapsed": false,
    "deletable": true,
    "editable": true
   },
   "outputs": [],
   "source": [
    "importance = np.argsort(randommodel.feature_importances_)[::-1]"
   ]
  },
  {
   "cell_type": "code",
   "execution_count": 393,
   "metadata": {
    "collapsed": false,
    "deletable": true,
    "editable": true
   },
   "outputs": [
    {
     "name": "stdout",
     "output_type": "stream",
     "text": [
      "('feature', u'Critic_Score', 'percentage', 33.601481571870941)\n",
      "('feature', u'Year_of_Release', 'percentage', 15.169452501255209)\n",
      "('feature', u'Publisher_Nintendo', 'percentage', 3.1916749623361182)\n",
      "('feature', u'Publisher_Electronic Arts', 'percentage', 2.155176638336938)\n",
      "('feature', u'Genre_Action', 'percentage', 1.9728119873928676)\n",
      "('feature', u'Platform_PC', 'percentage', 1.8728756294784314)\n",
      "('feature', u'Genre_Sports', 'percentage', 1.7751395422654046)\n",
      "('feature', u'Genre_Shooter', 'percentage', 1.7484232651704283)\n",
      "('feature', u'Platform_PS3', 'percentage', 1.6865055553680115)\n",
      "('feature', u'Platform_X360', 'percentage', 1.5592908605859601)\n",
      "('feature', u'Publisher_Activision', 'percentage', 1.5439420865532016)\n",
      "('feature', u'Platform_PS2', 'percentage', 1.4415303397524417)\n",
      "('feature', u'Genre_Racing', 'percentage', 1.3967067931376098)\n",
      "('feature', u'Platform_Wii', 'percentage', 1.2238007734277945)\n",
      "('feature', u'Genre_Platform', 'percentage', 1.2142413156033438)\n",
      "('feature', u'Genre_Role-Playing', 'percentage', 1.1244790303369563)\n",
      "('feature', u'Publisher_Sega', 'percentage', 1.0788184700808472)\n",
      "('feature', u'Publisher_Microsoft Game Studios', 'percentage', 1.0774123442255348)\n",
      "('feature', u'Publisher_Ubisoft', 'percentage', 1.0600226246794271)\n",
      "('feature', u'Publisher_LucasArts', 'percentage', 1.0503466097838807)\n"
     ]
    }
   ],
   "source": [
    "lista=[]\n",
    "listb=[]\n",
    "for f in range(20):\n",
    "    lista.append(dumpfeatures1.columns[importance[f]])\n",
    "    listb.append(randommodel.feature_importances_[importance[f]]*100)\n",
    "    print(\"feature\" ,dumpfeatures1.columns[importance[f]] ,\"percentage\" ,randommodel.feature_importances_[importance[f]]*100)\n",
    "\n"
   ]
  },
  {
   "cell_type": "code",
   "execution_count": 394,
   "metadata": {
    "collapsed": false,
    "deletable": true,
    "editable": true
   },
   "outputs": [
    {
     "data": {
      "image/png": "[encoded data removed]",
      "text/plain": [
       "<matplotlib.figure.Figure at 0x10e4f05d0>"
      ]
     },
     "metadata": {},
     "output_type": "display_data"
    }
   ],
   "source": [
    "plt.figure(1)\n",
    "index1 = np.arange(len(lista))\n",
    "plt.bar(index1,listb)\n",
    "plt.xticks(index1, lista,rotation=90)\n",
    "plt.ylabel('weight')\n",
    "plt.xlabel('features')\n",
    "plt.show()"
   ]
  },
  {
   "cell_type": "code",
   "execution_count": 395,
   "metadata": {
    "collapsed": false,
    "deletable": true,
    "editable": true
   },
   "outputs": [],
   "source": [
    "Candidategames = dumpfeatures[dumpfeatures['PopularGames'] == 0]"
   ]
  },
  {
   "cell_type": "code",
   "execution_count": 396,
   "metadata": {
    "collapsed": false
   },
   "outputs": [],
   "source": [
    "candidatey = Candidategames['PopularGames'].values"
   ]
  },
  {
   "cell_type": "code",
   "execution_count": 397,
   "metadata": {
    "collapsed": false
   },
   "outputs": [],
   "source": [
    "Candidategames = Candidategames.drop(['PopularGames'],axis=1)\n",
    "candidatex = Candidategames.values"
   ]
  },
  {
   "cell_type": "code",
   "execution_count": 398,
   "metadata": {
    "collapsed": false
   },
   "outputs": [],
   "source": [
    "predpopular = randommodel.predict_proba(candidatex)"
   ]
  },
  {
   "cell_type": "code",
   "execution_count": 399,
   "metadata": {
    "collapsed": false
   },
   "outputs": [],
   "source": [
    "listc = []\n",
    "listd =[]\n",
    "listc = filtercolum1['Name'].values\n",
    "listd = predpopular[:,1]"
   ]
  },
  {
   "cell_type": "code",
   "execution_count": 400,
   "metadata": {
    "collapsed": false
   },
   "outputs": [
    {
     "data": {
      "text/plain": [
       "{0.0: u'15 Days',\n",
       " 0.025000000000000001: u'Beat Down: Fists of Vengeance',\n",
       " 0.040000000000000001: u'Legend of Kay',\n",
       " 0.050000000000000003: u'Carmen Sandiego: The Secret of the Stolen Drums',\n",
       " 0.066666666666666666: u'Need for Speed: Most Wanted',\n",
       " 0.074999999999999997: u'Battlefield 2: Modern Combat',\n",
       " 0.089999999999999997: u'Stolen',\n",
       " 0.10000000000000001: u'Micro Machines V4',\n",
       " 0.13333333333333333: u'The Saboteur',\n",
       " 0.13999999999999999: u'Battle Assault 3 featuring Gundam Seed',\n",
       " 0.14999999999999999: u'World Soccer Winning Eleven 8 International',\n",
       " 0.16: u'NBA Live 2002',\n",
       " 0.16666666666666666: u'Need for Speed: Hot Pursuit',\n",
       " 0.18166666666666664: u'Robots',\n",
       " 0.20000000000000001: u'Trine',\n",
       " 0.20833333333333331: u'The Mummy: Tomb of the Dragon Emperor',\n",
       " 0.23166666666666669: u'Buffy the Vampire Slayer: Chaos Bleeds',\n",
       " 0.23333333333333331: u'The Sims 3: Generations',\n",
       " 0.27500000000000002: u'Crash of the Titans',\n",
       " 0.28999999999999998: u'Red Ninja: End of Honor',\n",
       " 0.29999999999999999: u'Fast Racing Neo ',\n",
       " 0.32000000000000001: u'Swing Away Golf',\n",
       " 0.34999999999999998: u'Madden NFL 2003',\n",
       " 0.40000000000000002: u'Art Academy: Home Studio',\n",
       " 0.43666666666666665: u'Tiger Woods PGA Tour 2001',\n",
       " 0.45000000000000001: u'SSX 3',\n",
       " 0.48333333333333328: u'NHL 2K3',\n",
       " 0.5: u'Grand Theft Auto III',\n",
       " 0.53333333333333333: u'The Sims 4: City Living',\n",
       " 0.54000000000000004: u'The Sims 3: Ambitions',\n",
       " 0.55833333333333335: u'SSX On Tour',\n",
       " 0.59999999999999998: u'Rugby 08',\n",
       " 0.63333333333333341: u'The Sims: Medieval',\n",
       " 0.69999999999999996: u\"JoJo's Bizarre Adventure: Eyes of Heaven\",\n",
       " 0.73333333333333328: u'NHL 11',\n",
       " 0.75: u'NHL 2001',\n",
       " 0.78333333333333333: u'NHL 09',\n",
       " 0.80000000000000004: u'WipEout HD Fury',\n",
       " 0.83333333333333326: u'NHL 10',\n",
       " 0.90000000000000002: u'Madden NFL 13',\n",
       " 1.0: u'Super Swing Golf'}"
      ]
     },
     "execution_count": 400,
     "metadata": {},
     "output_type": "execute_result"
    }
   ],
   "source": [
    "dict1 = {}\n",
    "for a in range(len(listd)):\n",
    "    dict1[listd[a]]= listc[a]\n",
    "    \n",
    "dict1"
   ]
  },
  {
   "cell_type": "code",
   "execution_count": 401,
   "metadata": {
    "collapsed": false
   },
   "outputs": [
    {
     "data": {
      "text/plain": [
       "6"
      ]
     },
     "execution_count": 401,
     "metadata": {},
     "output_type": "execute_result"
    }
   ],
   "source": [
    "list9=[\"Madden NFL 13\",\"NHL 10\",\"WipEout HD Fury\",\"NHL 09\",\"NHL 11\",\"JoJos Bizarre Adventure: Eyes of Heaven\"]\n",
    "list8 = [90,83,80,78,75,73]\n",
    "len(list8)"
   ]
  },
  {
   "cell_type": "code",
   "execution_count": 402,
   "metadata": {
    "collapsed": false
   },
   "outputs": [
    {
     "data": {
      "image/png": "[encoded data removed]",
      "text/plain": [
       "<matplotlib.figure.Figure at 0x10cb6e410>"
      ]
     },
     "metadata": {},
     "output_type": "display_data"
    }
   ],
   "source": [
    "plt.figure(2)\n",
    "index1 = np.arange(len(list9))\n",
    "plt.bar(index1,list8)\n",
    "plt.xticks(index1, list9,rotation=90)\n",
    "plt.ylabel('probablity')\n",
    "plt.xlabel('games')\n",
    "plt.show()"
   ]
  },
  {
   "cell_type": "code",
   "execution_count": null,
   "metadata": {
    "collapsed": true
   },
   "outputs": [],
   "source": []
  },
  {
   "cell_type": "code",
   "execution_count": null,
   "metadata": {
    "collapsed": true
   },
   "outputs": [],
   "source": []
  }
 ],
 "metadata": {
  "kernelspec": {
   "display_name": "Python 2",
   "language": "python",
   "name": "python2"
  },
  "language_info": {
   "codemirror_mode": {
    "name": "ipython",
    "version": 2
   },
   "file_extension": ".py",
   "mimetype": "text/x-python",
   "name": "python",
   "nbconvert_exporter": "python",
   "pygments_lexer": "ipython2",
   "version": "2.7.13"
  }
 },
 "nbformat": 4,
 "nbformat_minor": 2
}

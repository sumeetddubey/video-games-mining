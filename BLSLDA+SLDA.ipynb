{
 "cells": [
  {
   "cell_type": "code",
   "execution_count": 3,
   "metadata": {
    "collapsed": false,
    "deletable": true,
    "editable": true
   },
   "outputs": [],
   "source": [
    "from slda.topic_models import SLDA\n",
    "from slda.topic_models import BLSLDA\n",
    "from functools import partial\n",
    "from sklearn.metrics import (mean_squared_error)\n",
    "from sklearn.feature_extraction.text import TfidfVectorizer, CountVectorizer\n",
    "import seaborn as sns\n",
    "import matplotlib.pyplot as plt\n",
    "import numpy as np\n",
    "import pandas as pd\n",
    "import os\n",
    "import fnmatch\n",
    "import re\n",
    "import random\n",
    "from scipy import sparse\n",
    "from sklearn.model_selection import train_test_split\n",
    "import pandas as pd\n",
    "import numpy as np\n",
    "import matplotlib.pyplot as plt\n",
    "import seaborn as sns\n",
    "from pandas import Series\n",
    "from math import ceil\n",
    "from pandas import get_dummies\n",
    "from __future__ import division\n",
    "from sklearn.model_selection import train_test_split\n",
    "from sklearn.feature_selection import SelectFromModel\n",
    "from sklearn import svm\n",
    "from sklearn.linear_model import LogisticRegression"
   ]
  },
  {
   "cell_type": "markdown",
   "metadata": {},
   "source": [
    "## BLSLDA SLDA LIBraray depends on Conda software"
   ]
  },
  {
   "cell_type": "markdown",
   "metadata": {
    "deletable": true,
    "editable": true
   },
   "source": [
    "# binary logistic supervised latent Dirichlet allocation for predic nagative and positive sentiment"
   ]
  },
  {
   "cell_type": "code",
   "execution_count": 36,
   "metadata": {
    "collapsed": true,
    "deletable": true,
    "editable": true
   },
   "outputs": [],
   "source": [
    "df=pd.DataFrame(columns=['Name', 'Publisher', 'GameSpotScore', 'Review', 'Console', 'Genre', 'Class'])"
   ]
  },
  {
   "cell_type": "markdown",
   "metadata": {
    "deletable": true,
    "editable": true
   },
   "source": [
    "## IO FILE DUMP"
   ]
  },
  {
   "cell_type": "code",
   "execution_count": 41,
   "metadata": {
    "collapsed": true,
    "deletable": true,
    "editable": true
   },
   "outputs": [],
   "source": [
    "i=0\n",
    "for dirpath, dirs, files in os.walk('dataset/reviews'):   \n",
    "    for file in fnmatch.filter(files, '*.txt'):\n",
    "        with open(os.path.join(dirpath, file), 'r') as ip:\n",
    "            data=ip.read()\n",
    "            name=re.findall(r':::Game Name:::(.*?)-----', data, re.DOTALL)[0].strip()\n",
    "            review=re.findall(r':::Review:::(.*?)-----',data, re.DOTALL)[0].strip()\n",
    "            scores=re.findall(r':::Scores:::(.*?)-----',data, re.DOTALL)[0]\n",
    "            addition=re.findall(r':::Addition:::(.*?)-----',data, re.DOTALL)[0]\n",
    "            gsScore=re.findall(r'GameSpot Score:(.*?)\\n', scores)[0]\n",
    "            if(float(gsScore)>=5):\n",
    "                cls=1\n",
    "            else:\n",
    "                cls=0\n",
    "            try:\n",
    "                pub=re.findall(r'Publisher:(.*?)\\n', addition)[0]\n",
    "            except:\n",
    "                pub=''\n",
    "            try:\n",
    "                genre=re.findall(r'Genre:(.*?)\\n', addition)[0]\n",
    "            except:\n",
    "                genre=''\n",
    "            console=dirpath.strip('dataset/reviews/')\n",
    "            df.loc[i]=[name, pub, gsScore, review, console, genre, cls]\n",
    "            i+=1\n",
    "            "
   ]
  },
  {
   "cell_type": "code",
   "execution_count": 42,
   "metadata": {
    "collapsed": true,
    "deletable": true,
    "editable": true
   },
   "outputs": [],
   "source": [
    "def extractmx(inputmat,indices):\n",
    "    output = np.empty((0, np.shape(inputmat)[1]))\n",
    "    for index in indices:\n",
    "        vec=inputmat[index]\n",
    "        output=np.append(output, vec, axis=0)\n",
    "    return output   "
   ]
  },
  {
   "cell_type": "markdown",
   "metadata": {
    "deletable": true,
    "editable": true
   },
   "source": [
    "# subset the trainning and testing data"
   ]
  },
  {
   "cell_type": "code",
   "execution_count": 43,
   "metadata": {
    "collapsed": false,
    "deletable": true,
    "editable": true
   },
   "outputs": [],
   "source": [
    "tf_vectorizer = CountVectorizer(max_df=0.85, min_df=0.2,max_features=1000,stop_words='english', lowercase=True)\n",
    "inputbackwords = tf_vectorizer.fit_transform(df['Review'])\n",
    "inputbackwords=inputbackwords.todense()\n",
    "features= tf_vectorizer.get_feature_names()\n",
    "train, test = train_test_split(df, test_size = 0.2)\n",
    "\n",
    "trainvector = extractmx(inputbackwords,train.index)\n",
    "trainvector = sparse.csr_matrix(trainvector, dtype='int')\n",
    "testvector = extractmx(inputbackwords,test.index)\n",
    "testvector = sparse.csr_matrix(testvector, dtype='int')"
   ]
  },
  {
   "cell_type": "code",
   "execution_count": 44,
   "metadata": {
    "collapsed": false,
    "deletable": true,
    "editable": true
   },
   "outputs": [
    {
     "name": "stdout",
     "output_type": "stream",
     "text": [
      "2017-04-18 19:34:01.664334 start iterations\n",
      "2017-04-18 19:34:03.906782 0:00:02.242448 elapsed, iter   10, LL -715729.9301, 30.46% change from last\n",
      "2017-04-18 19:34:06.422973 0:00:04.758639 elapsed, iter   20, LL -574105.1216, 19.79% change from last\n",
      "2017-04-18 19:34:08.598078 0:00:06.933744 elapsed, iter   30, LL -520255.0462, 9.38% change from last\n",
      "2017-04-18 19:34:10.622768 0:00:08.958434 elapsed, iter   40, LL -490216.7727, 5.77% change from last\n",
      "2017-04-18 19:34:12.821736 0:00:11.157402 elapsed, iter   50, LL -474811.2169, 3.14% change from last\n",
      "2017-04-18 19:34:14.742119 0:00:13.077785 elapsed, iter   60, LL -462620.1162, 2.57% change from last\n",
      "2017-04-18 19:34:16.601983 0:00:14.937649 elapsed, iter   70, LL -456508.6627, 1.32% change from last\n",
      "2017-04-18 19:34:18.549270 0:00:16.884936 elapsed, iter   80, LL -449835.1413, 1.46% change from last\n",
      "2017-04-18 19:34:20.639922 0:00:18.975588 elapsed, iter   90, LL -447277.8787, 0.57% change from last\n",
      "2017-04-18 19:34:23.059453 0:00:21.395119 elapsed, iter  100, LL -442779.7733, 1.01% change from last\n",
      "2017-04-18 19:34:25.108733 0:00:23.444399 elapsed, iter  110, LL -440185.1933, 0.59% change from last\n",
      "2017-04-18 19:34:27.041692 0:00:25.377358 elapsed, iter  120, LL -440173.4876, 0.00% change from last\n",
      "2017-04-18 19:34:29.054920 0:00:27.390586 elapsed, iter  130, LL -436182.5780, 0.91% change from last\n",
      "2017-04-18 19:34:30.993178 0:00:29.328844 elapsed, iter  140, LL -434803.9878, 0.32% change from last\n",
      "2017-04-18 19:34:32.956302 0:00:31.291968 elapsed, iter  150, LL -435146.2721, -0.08% change from last\n",
      "2017-04-18 19:34:34.915979 0:00:33.251645 elapsed, iter  160, LL -435010.9211, 0.03% change from last\n",
      "2017-04-18 19:34:37.130297 0:00:35.465963 elapsed, iter  170, LL -433165.6563, 0.42% change from last\n",
      "2017-04-18 19:34:39.147778 0:00:37.483444 elapsed, iter  180, LL -432171.7536, 0.23% change from last\n",
      "2017-04-18 19:34:41.317415 0:00:39.653081 elapsed, iter  190, LL -431227.8824, 0.22% change from last\n",
      "2017-04-18 19:34:43.435203 0:00:41.770869 elapsed, iter  200, LL -432104.4685, -0.20% change from last\n",
      "2017-04-18 19:34:45.456723 0:00:43.792389 elapsed, iter  210, LL -429189.3187, 0.67% change from last\n",
      "2017-04-18 19:34:47.417004 0:00:45.752670 elapsed, iter  220, LL -428947.8476, 0.06% change from last\n",
      "2017-04-18 19:34:49.310140 0:00:47.645806 elapsed, iter  230, LL -430198.2252, -0.29% change from last\n",
      "2017-04-18 19:34:51.238932 0:00:49.574598 elapsed, iter  240, LL -428251.6855, 0.45% change from last\n",
      "2017-04-18 19:34:53.141493 0:00:51.477159 elapsed, iter  250, LL -429153.8322, -0.21% change from last\n",
      "2017-04-18 19:34:55.131957 0:00:53.467623 elapsed, iter  260, LL -428737.1535, 0.10% change from last\n",
      "2017-04-18 19:34:56.988479 0:00:55.324145 elapsed, iter  270, LL -430103.2986, -0.32% change from last\n",
      "2017-04-18 19:34:58.832441 0:00:57.168107 elapsed, iter  280, LL -429064.1595, 0.24% change from last\n",
      "2017-04-18 19:35:00.766692 0:00:59.102358 elapsed, iter  290, LL -429261.9074, -0.05% change from last\n",
      "2017-04-18 19:35:02.687384 0:01:01.023050 elapsed, iter  300, LL -428520.6406, 0.17% change from last\n",
      "2017-04-18 19:35:04.639409 0:01:02.975075 elapsed, iter  310, LL -427838.1401, 0.16% change from last\n",
      "2017-04-18 19:35:06.661425 0:01:04.997091 elapsed, iter  320, LL -429954.2142, -0.49% change from last\n",
      "2017-04-18 19:35:08.999120 0:01:07.334786 elapsed, iter  330, LL -429163.1917, 0.18% change from last\n",
      "2017-04-18 19:35:11.008096 0:01:09.343762 elapsed, iter  340, LL -427671.3196, 0.35% change from last\n",
      "2017-04-18 19:35:12.956439 0:01:11.292105 elapsed, iter  350, LL -428529.6188, -0.20% change from last\n",
      "2017-04-18 19:35:15.033055 0:01:13.368721 elapsed, iter  360, LL -429351.6064, -0.19% change from last\n",
      "2017-04-18 19:35:16.969197 0:01:15.304863 elapsed, iter  370, LL -427975.3217, 0.32% change from last\n",
      "2017-04-18 19:35:18.890738 0:01:17.226404 elapsed, iter  380, LL -429373.0121, -0.33% change from last\n",
      "2017-04-18 19:35:20.837906 0:01:19.173572 elapsed, iter  390, LL -426390.1998, 0.69% change from last\n",
      "2017-04-18 19:35:22.879235 0:01:21.214901 elapsed, iter  400, LL -426040.3963, 0.08% change from last\n",
      "2017-04-18 19:35:24.903310 0:01:23.238976 elapsed, iter  410, LL -426904.0717, -0.20% change from last\n",
      "2017-04-18 19:35:27.009940 0:01:25.345606 elapsed, iter  420, LL -425601.8130, 0.31% change from last\n",
      "2017-04-18 19:35:28.948819 0:01:27.284485 elapsed, iter  430, LL -426921.5146, -0.31% change from last\n",
      "2017-04-18 19:35:30.992856 0:01:29.328522 elapsed, iter  440, LL -426548.5951, 0.09% change from last\n",
      "2017-04-18 19:35:33.206209 0:01:31.541875 elapsed, iter  450, LL -425924.5850, 0.15% change from last\n",
      "2017-04-18 19:35:35.458933 0:01:33.794599 elapsed, iter  460, LL -426974.4007, -0.25% change from last\n",
      "2017-04-18 19:35:37.539736 0:01:35.875402 elapsed, iter  470, LL -426383.7655, 0.14% change from last\n",
      "2017-04-18 19:35:39.539646 0:01:37.875312 elapsed, iter  480, LL -427816.3891, -0.34% change from last\n",
      "2017-04-18 19:35:41.547094 0:01:39.882760 elapsed, iter  490, LL -427297.9054, 0.12% change from last\n"
     ]
    }
   ],
   "source": [
    "trainclass = train[\"Class\"]\n",
    "trainclass1 = list(trainclass) \n",
    "trainclass2 = np.array(trainclass)\n",
    "\n",
    "K=25\n",
    "alpha = np.ones(K)\n",
    "_K = 25\n",
    "D=len(df)\n",
    "V=len(features)\n",
    "_alpha = alpha\n",
    "_beta = np.repeat(0.01, V)\n",
    "_mu = 0\n",
    "_nu2 = 10\n",
    "_b = 7.25\n",
    "n_iter = 500\n",
    "blslda = BLSLDA(_K, _alpha, _beta, _mu, _nu2, _b, n_iter, seed=42)\n",
    "blslda.fit(trainvector,trainclass2)"
   ]
  },
  {
   "cell_type": "code",
   "execution_count": 45,
   "metadata": {
    "collapsed": false,
    "deletable": true,
    "editable": true,
    "scrolled": true
   },
   "outputs": [
    {
     "data": {
      "text/plain": [
       "BLSLDA(alpha=array([ 1.,  1.,  1.,  1.,  1.,  1.,  1.,  1.,  1.,  1.,  1.,  1.,  1.,\n",
       "        1.,  1.,  1.,  1.,  1.,  1.,  1.,  1.,  1.,  1.,  1.,  1.]),\n",
       "    b=7.25, beta=array([ 0.01,  0.01, ...,  0.01,  0.01]), mu=0,\n",
       "    n_iter=500, n_report_iter=10, n_topics=25, nu2=10, seed=42)"
      ]
     },
     "execution_count": 45,
     "metadata": {},
     "output_type": "execute_result"
    }
   ],
   "source": [
    "# Trained model\n",
    "blslda"
   ]
  },
  {
   "cell_type": "code",
   "execution_count": 46,
   "metadata": {
    "collapsed": true,
    "deletable": true,
    "editable": true
   },
   "outputs": [],
   "source": [
    "# Set the paramenter \n",
    "def bern_param(eta, theta):\n",
    "    return np.exp(np.dot(eta, theta)) / (1 + np.exp(np.dot(eta, theta)))\n",
    "\n",
    "burn_in = max(500 - 100, int(500 / 2))\n",
    "eta_pred = blslda.eta[burn_in:].mean(axis=0)\n",
    "lglk=blslda.loglikelihoods[burn_in:].mean()\n",
    "eta_pred = blslda.eta[burn_in:].mean(axis=0)\n",
    "test_blslda = blslda.transform(testvector)\n",
    "y_blslda = [bern_param(eta_pred, test_blslda[i]) for i in range(len(test))]"
   ]
  },
  {
   "cell_type": "markdown",
   "metadata": {
    "deletable": true,
    "editable": true
   },
   "source": [
    "# RMSE evaluation"
   ]
  },
  {
   "cell_type": "code",
   "execution_count": 47,
   "metadata": {
    "collapsed": false,
    "deletable": true,
    "editable": true
   },
   "outputs": [
    {
     "name": "stdout",
     "output_type": "stream",
     "text": [
      "0.0115604278447\n"
     ]
    }
   ],
   "source": [
    "def RMSE(A,B):\n",
    "    sse=0\n",
    "    n=len(A)\n",
    "    for a, b in zip(A, B):\n",
    "        sse+=(a-b)**2\n",
    "    rmse=(sse/n)**2\n",
    "    return rmse\n",
    "\n",
    "rmse=RMSE(test['Class'], y_blslda)\n",
    "print(rmse)"
   ]
  },
  {
   "cell_type": "code",
   "execution_count": 50,
   "metadata": {
    "collapsed": true,
    "deletable": true,
    "editable": true
   },
   "outputs": [],
   "source": [
    "y_blslda1 = y_blslda"
   ]
  },
  {
   "cell_type": "code",
   "execution_count": 51,
   "metadata": {
    "collapsed": true,
    "deletable": true,
    "editable": true
   },
   "outputs": [],
   "source": [
    "for i in range(len(y_blslda1)):\n",
    "    if y_blslda1[i]>=0.5:\n",
    "        y_blslda1[i] = 1\n",
    "    else:\n",
    "        y_blslda1[i]=0\n",
    "        "
   ]
  },
  {
   "cell_type": "markdown",
   "metadata": {
    "deletable": true,
    "editable": true
   },
   "source": [
    "# Compare with initial label, the accuracy rate is 88%"
   ]
  },
  {
   "cell_type": "code",
   "execution_count": 53,
   "metadata": {
    "collapsed": false,
    "deletable": true,
    "editable": true
   },
   "outputs": [
    {
     "data": {
      "text/plain": [
       "0.8817204301075269"
      ]
     },
     "execution_count": 53,
     "metadata": {},
     "output_type": "execute_result"
    }
   ],
   "source": [
    "def valid(x,y):\n",
    "    count = 0 \n",
    "#     print(len(x))\n",
    "    for i in range(len(x)):\n",
    "        if x[i] == y[i]:\n",
    "            count = count + 1\n",
    "#             print(count)\n",
    "    vc = count/len(y)\n",
    "    return vc\n",
    "\n",
    "\n",
    "valid(y_blslda1,test[\"Class\"].values)"
   ]
  },
  {
   "cell_type": "markdown",
   "metadata": {
    "deletable": true,
    "editable": true
   },
   "source": [
    "# Elvaluation ROC CURVE"
   ]
  },
  {
   "cell_type": "code",
   "execution_count": 49,
   "metadata": {
    "collapsed": false,
    "deletable": true,
    "editable": true
   },
   "outputs": [
    {
     "data": {
      "image/png": "[encoded data removed]",
      "text/plain": [
       "<matplotlib.figure.Figure at 0x10d4e8c18>"
      ]
     },
     "metadata": {},
     "output_type": "display_data"
    }
   ],
   "source": [
    "from sklearn.metrics import (roc_auc_score, roc_curve)\n",
    "fpr, tpr, _ = roc_curve(test['Class'], y_blslda)\n",
    "plt.plot(fpr, tpr, label=('AUC = {:.3f}'.format(roc_auc_score(test['Class'], y_blslda))))\n",
    "_ = plt.legend(loc='best')\n",
    "plt.show()"
   ]
  },
  {
   "cell_type": "markdown",
   "metadata": {
    "deletable": true,
    "editable": true
   },
   "source": [
    "# likelyhoods"
   ]
  },
  {
   "cell_type": "code",
   "execution_count": 16,
   "metadata": {
    "collapsed": false,
    "deletable": true,
    "editable": true
   },
   "outputs": [
    {
     "data": {
      "image/png": "[encoded data removed]",
      "text/plain": [
       "<matplotlib.figure.Figure at 0x10d5ea4a8>"
      ]
     },
     "metadata": {},
     "output_type": "display_data"
    }
   ],
   "source": [
    "plt.plot(blslda.loglikelihoods)\n",
    "plt.show()"
   ]
  },
  {
   "cell_type": "markdown",
   "metadata": {
    "deletable": true,
    "editable": true
   },
   "source": [
    "# Learned Topics for DataSet"
   ]
  },
  {
   "cell_type": "code",
   "execution_count": 121,
   "metadata": {
    "collapsed": false,
    "deletable": true,
    "editable": true
   },
   "outputs": [
    {
     "name": "stdout",
     "output_type": "stream",
     "text": [
      "['mode', 'player', 'single', 'multiplayer', 'players', 'online', 'modes', 'different', 'score', 'features']\n",
      "['speed', 'track', 'events', 'need', 'course', 'line', 'feel', 'rate', 'variety', 'don']\n",
      "['360', 'xbox', 'version', 'versions', 'playstation', 'online', 'way', 'look', 'looks', 'good']\n",
      "['power', 'challenge', 'good', 'fun', 'gameplay', 'difficulty', 'score', 'style', 'easy', 'end']\n",
      "['psp', 'games', 'version', 'console', 'versions', 'mode', 'good', 'playstation', 'available', 'times']\n",
      "['want', 've', 'great', 'need', 'don', 'people', 'won', 'way', 'place', 'life']\n",
      "['bit', 'things', 'actually', 'isn', 'big', 'quite', 'thing', 'does', 'kind', 'really']\n",
      "['new', 'series', 'games', 'previous', 'bit', 'years', 'great', 'fans', 've', 'addition']\n",
      "['points', 'games', 'earn', 'hit', 'playing', 'start', 'open', 'point', 'basic', 'try']\n",
      "['characters', 'character', 'story', 'attacks', 'special', 'dialogue', 'attack', 'voice', 'playing', 'fighting']\n",
      "['number', 'gameplay', 'feel', 'way', 'makes', 'little', 'fans', 'experience', 'specific', 'features']\n",
      "['pretty', 'really', 'good', 'look', 'little', 'got', 've', 'lot', 'looking', 'doesn']\n",
      "['doesn', 'bad', 'hit', 'better', 'simply', 'isn', 'end', 'left', 'problem', 'problems']\n",
      "['level', 'levels', 'way', 'jump', 'design', 'gameplay', 'given', 'little', 'able', 'beat']\n",
      "['screen', 'ds', 'touch', 'nintendo', 'games', 'using', 'use', 'different', 'controls', 'control']\n",
      "['players', 'year', 'player', 'team', 'plays', 'mode', 'new', 'online', 'franchise', 'feature']\n",
      "['battle', 'battles', 'turn', 'attack', 'based', 'items', 'map', 'role', 'use', 'playing']\n",
      "['enemies', 'combat', 'action', 'boss', 'attack', 'adventure', 'attacks', 'enemy', 'environments', 'moves']\n",
      "['missions', 'story', 'mission', 'gameplay', 'map', 'don', 'good', 'action', 'far', 'number']\n",
      "['different', 'need', 'isn', 'lets', 'various', 'use', 'look', 'main', 'multiple', 'sound']\n",
      "['controls', 'button', 'right', 'stick', 'camera', 'control', 'look', 'analog', 'use', 'buttons']\n",
      "['new', 'original', 'fun', 'makes', 'gameplay', 'different', 'little', 'experience', 'content', 'bit']\n",
      "['weapons', 'action', 'enemy', 'multiplayer', 'weapon', 'person', 'shoot', 'enemies', 'run', 'good']\n",
      "['mode', 'opponent', 'match', 'matches', 'opponents', 'fight', 'moves', 'fighting', 'create', 'face']\n",
      "['world', 'real', 'experience', 'does', 'head', 'based', 'hand', 'based', 'hand', 'presentation']\n"
     ]
    }
   ],
   "source": [
    " def topics(model):   \n",
    "    for topic in model.phi:\n",
    "        topProbs=sorted(topic, reverse=True)[:10]\n",
    "        indices=[]\n",
    "        topWords=[]\n",
    "        for prob in topProbs:\n",
    "            i=np.where(topic==prob)\n",
    "            for index in i[0]:\n",
    "                indices.append(int(index))\n",
    "            indices=indices[:10]\n",
    "        for i in indices:\n",
    "            topWords.append(features[i])\n",
    "            \n",
    "        print(topWords)\n",
    "        \n",
    "topics(blslda)"
   ]
  },
  {
   "cell_type": "markdown",
   "metadata": {
    "deletable": true,
    "editable": true
   },
   "source": [
    "# supervised latent Dirichlet allocation for predic nagative and positive sentiment"
   ]
  },
  {
   "cell_type": "code",
   "execution_count": 116,
   "metadata": {
    "collapsed": false,
    "deletable": true,
    "editable": true
   },
   "outputs": [
    {
     "name": "stdout",
     "output_type": "stream",
     "text": [
      "2017-04-16 20:12:00.257074 start iterations\n",
      "2017-04-16 20:12:02.236663 0:00:01.979589 elapsed, iter   10, LL -717768.8829, 30.46% change from last\n",
      "2017-04-16 20:12:04.028071 0:00:03.770997 elapsed, iter   20, LL -581898.7021, 18.93% change from last\n",
      "2017-04-16 20:12:05.777050 0:00:05.519976 elapsed, iter   30, LL -524840.1511, 9.81% change from last\n",
      "2017-04-16 20:12:07.601195 0:00:07.344121 elapsed, iter   40, LL -494804.1631, 5.72% change from last\n",
      "2017-04-16 20:12:09.355191 0:00:09.098117 elapsed, iter   50, LL -476658.5945, 3.67% change from last\n",
      "2017-04-16 20:12:11.095944 0:00:10.838870 elapsed, iter   60, LL -463298.9528, 2.80% change from last\n",
      "2017-04-16 20:12:12.860213 0:00:12.603139 elapsed, iter   70, LL -456552.9787, 1.46% change from last\n",
      "2017-04-16 20:12:14.598958 0:00:14.341884 elapsed, iter   80, LL -449007.5332, 1.65% change from last\n",
      "2017-04-16 20:12:16.336957 0:00:16.079883 elapsed, iter   90, LL -443697.3450, 1.18% change from last\n",
      "2017-04-16 20:12:18.076351 0:00:17.819277 elapsed, iter  100, LL -441457.5692, 0.50% change from last\n",
      "2017-04-16 20:12:19.823672 0:00:19.566598 elapsed, iter  110, LL -437852.9755, 0.82% change from last\n",
      "2017-04-16 20:12:21.555107 0:00:21.298033 elapsed, iter  120, LL -435804.0992, 0.47% change from last\n",
      "2017-04-16 20:12:23.286595 0:00:23.029521 elapsed, iter  130, LL -434524.0591, 0.29% change from last\n",
      "2017-04-16 20:12:25.042453 0:00:24.785379 elapsed, iter  140, LL -431539.0737, 0.69% change from last\n",
      "2017-04-16 20:12:26.781039 0:00:26.523965 elapsed, iter  150, LL -430390.0813, 0.27% change from last\n",
      "2017-04-16 20:12:28.510664 0:00:28.253590 elapsed, iter  160, LL -429156.9507, 0.29% change from last\n",
      "2017-04-16 20:12:30.246026 0:00:29.988952 elapsed, iter  170, LL -427219.1754, 0.45% change from last\n",
      "2017-04-16 20:12:31.976049 0:00:31.718975 elapsed, iter  180, LL -426282.2800, 0.22% change from last\n",
      "2017-04-16 20:12:33.706953 0:00:33.449879 elapsed, iter  190, LL -425485.1932, 0.19% change from last\n",
      "2017-04-16 20:12:35.449197 0:00:35.192123 elapsed, iter  200, LL -425012.9293, 0.11% change from last\n",
      "2017-04-16 20:12:37.178529 0:00:36.921455 elapsed, iter  210, LL -423383.6682, 0.38% change from last\n",
      "2017-04-16 20:12:38.912675 0:00:38.655601 elapsed, iter  220, LL -422804.6616, 0.14% change from last\n",
      "2017-04-16 20:12:40.647355 0:00:40.390281 elapsed, iter  230, LL -423014.7180, -0.05% change from last\n",
      "2017-04-16 20:12:42.379504 0:00:42.122430 elapsed, iter  240, LL -420694.7515, 0.55% change from last\n",
      "2017-04-16 20:12:44.131191 0:00:43.874117 elapsed, iter  250, LL -419606.9154, 0.26% change from last\n",
      "2017-04-16 20:12:45.861526 0:00:45.604452 elapsed, iter  260, LL -421453.9256, -0.44% change from last\n",
      "2017-04-16 20:12:47.588381 0:00:47.331307 elapsed, iter  270, LL -419445.6146, 0.48% change from last\n",
      "2017-04-16 20:12:49.317306 0:00:49.060232 elapsed, iter  280, LL -420663.4591, -0.29% change from last\n",
      "2017-04-16 20:12:51.057036 0:00:50.799962 elapsed, iter  290, LL -419182.6381, 0.35% change from last\n",
      "2017-04-16 20:12:52.782918 0:00:52.525844 elapsed, iter  300, LL -417141.3767, 0.49% change from last\n",
      "2017-04-16 20:12:54.512583 0:00:54.255509 elapsed, iter  310, LL -417145.2431, -0.00% change from last\n",
      "2017-04-16 20:12:56.248800 0:00:55.991726 elapsed, iter  320, LL -417200.4710, -0.01% change from last\n",
      "2017-04-16 20:12:57.997654 0:00:57.740580 elapsed, iter  330, LL -418187.6845, -0.24% change from last\n",
      "2017-04-16 20:12:59.728672 0:00:59.471598 elapsed, iter  340, LL -419998.5332, -0.43% change from last\n",
      "2017-04-16 20:13:01.454184 0:01:01.197110 elapsed, iter  350, LL -419666.5445, 0.08% change from last\n",
      "2017-04-16 20:13:03.180832 0:01:02.923758 elapsed, iter  360, LL -417326.8493, 0.56% change from last\n",
      "2017-04-16 20:13:04.929888 0:01:04.672814 elapsed, iter  370, LL -417106.8350, 0.05% change from last\n",
      "2017-04-16 20:13:06.668014 0:01:06.410940 elapsed, iter  380, LL -416855.2450, 0.06% change from last\n",
      "2017-04-16 20:13:08.394189 0:01:08.137115 elapsed, iter  390, LL -417076.5146, -0.05% change from last\n",
      "2017-04-16 20:13:10.123280 0:01:09.866206 elapsed, iter  400, LL -416575.5695, 0.12% change from last\n",
      "2017-04-16 20:13:11.855036 0:01:11.597962 elapsed, iter  410, LL -414736.6149, 0.44% change from last\n",
      "2017-04-16 20:13:13.623013 0:01:13.365939 elapsed, iter  420, LL -416480.2884, -0.42% change from last\n",
      "2017-04-16 20:13:15.362972 0:01:15.105898 elapsed, iter  430, LL -415946.9567, 0.13% change from last\n",
      "2017-04-16 20:13:17.095999 0:01:16.838925 elapsed, iter  440, LL -417475.8835, -0.37% change from last\n",
      "2017-04-16 20:13:18.824273 0:01:18.567199 elapsed, iter  450, LL -418926.2925, -0.35% change from last\n",
      "2017-04-16 20:13:20.556874 0:01:20.299800 elapsed, iter  460, LL -416742.8716, 0.52% change from last\n",
      "2017-04-16 20:13:22.291915 0:01:22.034841 elapsed, iter  470, LL -417998.2654, -0.30% change from last\n",
      "2017-04-16 20:13:24.023303 0:01:23.766229 elapsed, iter  480, LL -416472.7764, 0.36% change from last\n",
      "2017-04-16 20:13:25.755352 0:01:25.498278 elapsed, iter  490, LL -415130.6532, 0.32% change from last\n"
     ]
    }
   ],
   "source": [
    "def imSLDA(classlabels,df,features): \n",
    "    _K = 25\n",
    "    alpha = np.ones(K)\n",
    "    _alpha = alpha\n",
    "    V=len(features)\n",
    "    _beta = np.repeat(0.01, V)\n",
    "    _mu = 0\n",
    "    _nu2 = 10\n",
    "    _sigma2 = 1\n",
    "    n_iter = 500\n",
    "    slda = SLDA(_K, _alpha, _beta, _mu, _nu2, _sigma2, n_iter, seed=42)\n",
    "    slda.fit(df, classlabels)\n",
    "    return slda\n",
    "\n",
    "slda=imSLDA(trainclass2,trainvector,features)"
   ]
  },
  {
   "cell_type": "code",
   "execution_count": 117,
   "metadata": {
    "collapsed": false,
    "deletable": true,
    "editable": true
   },
   "outputs": [],
   "source": [
    "# slda.loglikelihoods[:].mean()\n",
    "eta_pred = slda.eta[burn_in:].mean(axis=0)\n",
    "test_slda = slda.transform(testvector)\n",
    "y_slda = [np.dot(eta_pred, test_slda[i]) for i in range(len(test))]"
   ]
  },
  {
   "cell_type": "code",
   "execution_count": 120,
   "metadata": {
    "collapsed": false,
    "deletable": true,
    "editable": true
   },
   "outputs": [
    {
     "name": "stdout",
     "output_type": "stream",
     "text": [
      "0.00957932138119\n"
     ]
    }
   ],
   "source": [
    "rmse=RMSE(test['Class'], y_slda)\n",
    "print(rmse)"
   ]
  },
  {
   "cell_type": "code",
   "execution_count": 122,
   "metadata": {
    "collapsed": false,
    "deletable": true,
    "editable": true
   },
   "outputs": [
    {
     "name": "stdout",
     "output_type": "stream",
     "text": [
      "['mode', 'player', 'multiplayer', 'online', 'single', 'players', 'modes', 'score', 'include', 'features']\n",
      "['speed', 'events', 'track', 'need', 'online', 'course', 'line', 'don', 'isn', 'fast']\n",
      "['360', 'xbox', 'version', 'playstation', 'versions', 'way', 'live', 'good', 'looks', 'playing']\n",
      "['really', 'pretty', 'good', 'different', 'lot', 'great', 'look', 'quite', 'looking', 'probably']\n",
      "['mode', 'opponent', 'match', 'matches', 'opponents', 'fight', 'style', 'moves', 'fighting', 'create']\n",
      "['need', 'want', 'fun', 'start', 'long', 'times', 'won', 'place', 'takes', 'short']\n",
      "['games', 'playing', 'fun', 'lot', 'big', 'easy', 'great', 'better', 'makes', 'looking']\n",
      "['new', 'series', 'previous', 'games', 'bit', 'addition', 'years', 'features', 'fans', 'head']\n",
      "['ve', 'way', 'people', 'don', 'pick', 'look', 'good', 'run', 'probably', 'things']\n",
      "['characters', 'character', 'story', 'use', 'dialogue', 'voice', 'adventure', 'playing', 'items', 'special']\n",
      "['points', 'hit', 've', 'power', 'good', 'start', 'point', 'earn', 'times', 'fast']\n",
      "['doesn', 'feel', 'better', 'design', 'simply', 'point', 'feels', 'right', 'feels', 'right']\n",
      "['number', 'different', 'certain', 'difficult', 'choose', 'types', 'way', 'experience', 'unique', 'limited']\n",
      "['right', 'stick', 'button', 'look', 'analog', 'controls', 'control', 'left', 'difficult', 'doesn']\n",
      "['screen', 'ds', 'touch', 'nintendo', 'games', 'use', 'using', 'different', 'control', 'controls']\n",
      "['players', 'player', 'team', 'year', 'online', 'mode', 'gameplay', 'plays', 'new', 'better']\n",
      "['battle', 'battles', 'attack', 'attacks', 'combat', 'turn', 'fighting', 'enemies', 'fight', 'special']\n",
      "['camera', 'way', 'moves', 'far', 'controls', 'open', 'fun', 'isn', 'adventure', 'perform']\n",
      "['missions', 'weapons', 'story', 'mission', 'weapon', 'combat', 'multiplayer', 'enemy', 'good', 'map']\n",
      "['level', 'levels', 'way', 'jump', 'abilities', 'design', 'ability', 'control', 'use', 'unique']\n",
      "['psp', 'version', 'console', 'games', 'versions', 'button', 'good', 'use', 'available', 'playstation']\n",
      "['gameplay', 'new', 'original', 'little', 'makes', 'music', 'presentation', 'experience', 'create', 'simple']\n",
      "['enemies', 'action', 'fun', 'shoot', 'enemy', 'makes', 'great', 'gameplay', 'bad', 'boss']\n",
      "['really', 'thing', 'kind', 'pretty', 'actually', 'things', 'actually', 'things', 'isn', 'bit']\n",
      "['world', 'real', 'life', 'music', 'way', 'difficulty', 'want', 'people', 'easy', 'playing']\n"
     ]
    }
   ],
   "source": [
    "topics(slda)"
   ]
  }
 ],
 "metadata": {
  "kernelspec": {
   "display_name": "Python 2",
   "language": "python",
   "name": "python2"
  },
  "language_info": {
   "codemirror_mode": {
    "name": "ipython",
    "version": 2
   },
   "file_extension": ".py",
   "mimetype": "text/x-python",
   "name": "python",
   "nbconvert_exporter": "python",
   "pygments_lexer": "ipython2",
   "version": "2.7.13"
  }
 },
 "nbformat": 4,
 "nbformat_minor": 2
}

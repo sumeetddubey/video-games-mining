{
 "cells": [
  {
   "cell_type": "markdown",
   "metadata": {},
   "source": [
    "#### All the imports required in the file and general functions"
   ]
  },
  {
   "cell_type": "code",
   "execution_count": 1,
   "metadata": {
    "collapsed": false
   },
   "outputs": [],
   "source": [
    "from sklearn.feature_extraction.text import TfidfVectorizer\n",
    "from sklearn.decomposition import TruncatedSVD\n",
    "from operator import itemgetter\n",
    "import numpy as np\n",
    "from sklearn.metrics.pairwise import cosine_similarity\n",
    "from os import listdir\n",
    "import os\n",
    "import string\n",
    "import errno\n",
    "import pandas as pd\n",
    "import re\n",
    "\n",
    "genres = {}\n",
    "directory_path = \"Gamespot-Cleaned/test/\"\n",
    "review_identification = \":::Review:::\"\n",
    "destination_path  = \"Gamespot-Cleaned/Cleaned_Data/\" \n",
    "\n",
    "break_cond = \"-------------------------------------------------\"\n",
    "\n",
    "def get_files(filepath):\n",
    "    files = []\n",
    "    files = listdir(filepath)\n",
    "    return files\n",
    "\n",
    "def make_sure_path_exists(path):\n",
    "    try:\n",
    "        os.makedirs(path)\n",
    "    except OSError as exception:\n",
    "        if exception.errno != errno.EEXIST:\n",
    "            raise\n"
   ]
  },
  {
   "cell_type": "markdown",
   "metadata": {},
   "source": [
    "#### Get data from the dataset "
   ]
  },
  {
   "cell_type": "code",
   "execution_count": 2,
   "metadata": {
    "collapsed": false,
    "scrolled": true
   },
   "outputs": [
    {
     "name": "stdout",
     "output_type": "stream",
     "text": [
      "DS\n",
      "PC\n",
      "PS3\n",
      "Wii\n",
      "Xbox360\n",
      "Number of Docs :4303\n"
     ]
    }
   ],
   "source": [
    "_data = []\n",
    "_docs = []\n",
    "\n",
    "def read_content_1(filepath):\n",
    "    data = \"\"\n",
    "    i = 0\n",
    "    with open(filepath, 'r') as f:\n",
    "            found_review = False\n",
    "            for line in f:\n",
    "                line= line.strip(\" \").strip('\\n')\n",
    "                if review_identification in line:\n",
    "                    found_review = True\n",
    "                    line = \"\"\n",
    "                    next(f)\n",
    "                if found_review :\n",
    "                    if line.strip() == break_cond:\n",
    "                        found_review = False\n",
    "                        break\n",
    "                    else:\n",
    "                        line = line.lower()\n",
    "                        tVar = str.maketrans('', '', string.punctuation)\n",
    "                        line = line.translate(tVar)\n",
    "                        if not line.strip(\"\\n\") == \"\":\n",
    "                            data += \" \" + line + \" \"        \n",
    "            f.close()\n",
    "    return data\n",
    "    \n",
    "def _get_data():\n",
    "    folders = get_files(directory_path)\n",
    "    dic_data = {}\n",
    "    \n",
    "    for folder in folders:\n",
    "        print(folder)\n",
    "        files = get_files(directory_path + folder)\n",
    "        for f in files:\n",
    "            output = read_content_1(directory_path + folder + \"/\" + f)\n",
    "            _data.append(output)\n",
    "            _docs.append(directory_path + folder + \"/\" + f)\n",
    "            \n",
    "\n",
    "_get_data()\n",
    "print(\"Number of Docs :\" + str(len(_data)))\n",
    "list_index = []\n",
    "\n",
    "for i, game in enumerate(_docs):\n",
    "    list_index.append((game,i))"
   ]
  },
  {
   "cell_type": "markdown",
   "metadata": {},
   "source": [
    "#### Perform LSA on the data from dataset and then calculate cosine similarity score for the documents."
   ]
  },
  {
   "cell_type": "code",
   "execution_count": 3,
   "metadata": {
    "collapsed": false,
    "scrolled": false
   },
   "outputs": [
    {
     "name": "stdout",
     "output_type": "stream",
     "text": [
      "(4303, 66847)\n"
     ]
    }
   ],
   "source": [
    "def _perform_Tfidf(docs):   \n",
    "    vectorizer = TfidfVectorizer(stop_words = 'english',use_idf=True,ngram_range=(1,1),lowercase=False)\n",
    "    X = vectorizer.fit_transform(docs)\n",
    "    return X, vectorizer.get_feature_names()\n",
    "\n",
    "def _perform_LSA(X):\n",
    "    lsa = TruncatedSVD(n_components=20, n_iter=100)\n",
    "    lsaOutput = lsa.fit(X)\n",
    "    lsaOutput = lsa.transform(X)\n",
    "    return lsaOutput\n",
    "    \n",
    "def _run_2():\n",
    "    X, terms = _perform_Tfidf(_data)\n",
    "    print(X.shape)\n",
    "    lsa = _perform_LSA(X)\n",
    "    cos_score = cosine_similarity(lsa)\n",
    "    return cos_score\n",
    "\n",
    "score = _run_2()"
   ]
  },
  {
   "cell_type": "markdown",
   "metadata": {},
   "source": [
    "#### Get details for a game in form of dataset."
   ]
  },
  {
   "cell_type": "code",
   "execution_count": 4,
   "metadata": {
    "collapsed": false
   },
   "outputs": [],
   "source": [
    "def print_data(path):\n",
    "    df=pd.DataFrame(columns=['Game Name', 'Publisher', 'GameSpotScore', 'Console','Genre'])\n",
    "    i=0\n",
    "    with open(path, 'r') as ip:\n",
    "        data=ip.read()\n",
    "        name=re.findall(r':::Game Name:::(.*?)-----', data, re.DOTALL)[0].strip()\n",
    "        scores=re.findall(r':::Scores:::(.*?)-----',data, re.DOTALL)[0]\n",
    "        addition=re.findall(r':::Addition:::(.*?)-----',data, re.DOTALL)[0]\n",
    "        gsScore=re.findall(r'GameSpot Score:(.*?)\\n', scores)[0]\n",
    "        try:\n",
    "            pub=re.findall(r'Publisher:(.*?)\\n', addition)[0]\n",
    "        except:\n",
    "            pub=''\n",
    "        try:\n",
    "            genre=re.findall(r'Genre:(.*?)\\n', addition)[0]\n",
    "        except:\n",
    "            genre=''\n",
    "        console=path.split('/')[-2]\n",
    "        df.loc[i]=[name, pub, gsScore,console, genre]\n",
    "        i+=1\n",
    "    return df\n",
    "\n",
    "       "
   ]
  },
  {
   "cell_type": "markdown",
   "metadata": {},
   "source": [
    "### All the below cells print top 5 games for a given game, based on cosine similarity score calculated above."
   ]
  },
  {
   "cell_type": "code",
   "execution_count": 5,
   "metadata": {
    "collapsed": false,
    "scrolled": false
   },
   "outputs": [
    {
     "name": "stdout",
     "output_type": "stream",
     "text": [
      "Game Name                      Saints Row\n",
      "Publisher                             THQ\n",
      "GameSpotScore                         8.3\n",
      "Console                           Xbox360\n",
      "Genre             Modern Action Adventure\n",
      "Name: 0, dtype: object\n",
      "\n",
      "\n",
      "Game Name        True Crime: New York City\n",
      "Publisher                            Aspyr\n",
      "GameSpotScore                          5.2\n",
      "Console                                 PC\n",
      "Genre              Modern Action Adventure\n",
      "Name: 0, dtype: object\n",
      "\n",
      "\n",
      "Game Name                      Crackdown\n",
      "Publisher         Microsoft Game Studios\n",
      "GameSpotScore                        7.8\n",
      "Console                          Xbox360\n",
      "Genre                     Sci-Fi Shooter\n",
      "Name: 0, dtype: object\n",
      "\n",
      "\n",
      "Game Name              Grand Theft Auto 2\n",
      "Publisher                  Rockstar Games\n",
      "GameSpotScore                         6.8\n",
      "Console                                PC\n",
      "Genre             Modern Action Adventure\n",
      "Name: 0, dtype: object\n",
      "\n",
      "\n",
      "Game Name            Starsky & Hutch\n",
      "Publisher               Gotham Games\n",
      "GameSpotScore                    6.8\n",
      "Console                           PC\n",
      "Genre             GT / Street Racing\n",
      "Name: 0, dtype: object\n",
      "\n",
      "\n"
     ]
    }
   ],
   "source": [
    "def _get_results_(name):\n",
    "    index = -1\n",
    "    for x in list_index:\n",
    "        if name == x[0].split('/')[-1]:\n",
    "            index = x[1]\n",
    "    if not index == -1: \n",
    "        docsnscores = zip(_docs,score[:,index])\n",
    "        sorted_score = sorted(docsnscores, key=lambda x: x[1], reverse=True)\n",
    "        i = 1\n",
    "        game_exists= set()\n",
    "        for n in sorted_score:\n",
    "            if i >= 6:\n",
    "                break\n",
    "            if n[0].split('/')[-1] not in game_exists and not n[0].split('/')[-1] == name:\n",
    "                game_exists.add(n[0].split('/')[-1])\n",
    "                df = print_data(n[0])\n",
    "                print(df.loc[0])\n",
    "                print(\"\\n\")\n",
    "                i += 1  \n",
    "_get_results_(\"GrandTheftAutoIV.txt\")"
   ]
  },
  {
   "cell_type": "code",
   "execution_count": 7,
   "metadata": {
    "collapsed": false
   },
   "outputs": [
    {
     "name": "stdout",
     "output_type": "stream",
     "text": [
      "Game Name          UEFA EURO 2008\n",
      "Publisher         Electronic Arts\n",
      "GameSpotScore                   8\n",
      "Console                       PS3\n",
      "Genre                  Soccer Sim\n",
      "Name: 0, dtype: object\n",
      "\n",
      "\n",
      "Game Name        FIFA 07 Soccer\n",
      "Publisher             EA Sports\n",
      "GameSpotScore               8.5\n",
      "Console                      PC\n",
      "Genre                Soccer Sim\n",
      "Name: 0, dtype: object\n",
      "\n",
      "\n",
      "Game Name        FIFA Soccer 2005\n",
      "Publisher               EA Sports\n",
      "GameSpotScore                 8.9\n",
      "Console                        PC\n",
      "Genre                  Soccer Sim\n",
      "Name: 0, dtype: object\n",
      "\n",
      "\n",
      "Game Name        FIFA Soccer 06\n",
      "Publisher             EA Sports\n",
      "GameSpotScore               8.9\n",
      "Console                      PC\n",
      "Genre                Soccer Sim\n",
      "Name: 0, dtype: object\n",
      "\n",
      "\n",
      "Game Name        FIFA Soccer 2004\n",
      "Publisher               EA Sports\n",
      "GameSpotScore                 7.8\n",
      "Console                        PC\n",
      "Genre                  Soccer Sim\n",
      "Name: 0, dtype: object\n",
      "\n",
      "\n"
     ]
    }
   ],
   "source": [
    "def _get_results_(name):\n",
    "    index = -1\n",
    "    for x in list_index:\n",
    "        if name == x[0].split('/')[-1]:\n",
    "            index = x[1]\n",
    "    if not index == -1: \n",
    "        docsnscores = zip(_docs,score[:,index])\n",
    "        sorted_score = sorted(docsnscores, key=lambda x: x[1], reverse=True)\n",
    "        i = 1\n",
    "        game_exists= set()\n",
    "        for n in sorted_score:\n",
    "            if i >= 6:\n",
    "                break\n",
    "            if n[0].split('/')[-1] not in game_exists and not n[0].split('/')[-1] == name:\n",
    "                game_exists.add(n[0].split('/')[-1])\n",
    "                df = print_data(n[0])\n",
    "                print(df.loc[0])\n",
    "                print(\"\\n\")\n",
    "                i += 1  \n",
    "_get_results_(\"FIFASoccer08.txt\")"
   ]
  },
  {
   "cell_type": "code",
   "execution_count": 8,
   "metadata": {
    "collapsed": false
   },
   "outputs": [
    {
     "name": "stdout",
     "output_type": "stream",
     "text": [
      "Game Name                     The Godfather\n",
      "Publisher                   Electronic Arts\n",
      "GameSpotScore                           8.1\n",
      "Console                                  PC\n",
      "Genre             Historic Action Adventure\n",
      "Name: 0, dtype: object\n",
      "\n",
      "\n",
      "Game Name        Grand Theft Auto: Vice City\n",
      "Publisher                     Rockstar Games\n",
      "GameSpotScore                            9.3\n",
      "Console                                   PC\n",
      "Genre                Modern Action Adventure\n",
      "Name: 0, dtype: object\n",
      "\n",
      "\n",
      "Game Name        The Godfather: The Don's Edition\n",
      "Publisher                         Electronic Arts\n",
      "GameSpotScore                                 7.6\n",
      "Console                                       PS3\n",
      "Genre                   Historic Action Adventure\n",
      "Name: 0, dtype: object\n",
      "\n",
      "\n",
      "Game Name        Spider-Man: Web of Shadows\n",
      "Publisher                        Activision\n",
      "GameSpotScore                             8\n",
      "Console                             Xbox360\n",
      "Genre                                Action\n",
      "Name: 0, dtype: object\n",
      "\n",
      "\n",
      "Game Name        True Crime: New York City\n",
      "Publisher                            Aspyr\n",
      "GameSpotScore                          5.2\n",
      "Console                                 PC\n",
      "Genre              Modern Action Adventure\n",
      "Name: 0, dtype: object\n",
      "\n",
      "\n"
     ]
    }
   ],
   "source": [
    "def _get_results_(name):\n",
    "    index = -1\n",
    "    for x in list_index:\n",
    "        if name == x[0].split('/')[-1]:\n",
    "            index = x[1]\n",
    "    if not index == -1: \n",
    "        docsnscores = zip(_docs,score[:,index])\n",
    "        sorted_score = sorted(docsnscores, key=lambda x: x[1], reverse=True)\n",
    "        i = 1\n",
    "        game_exists= set()\n",
    "        for n in sorted_score:\n",
    "            if i >= 6:\n",
    "                break\n",
    "            if n[0].split('/')[-1] not in game_exists and not n[0].split('/')[-1] == name:\n",
    "                game_exists.add(n[0].split('/')[-1])\n",
    "                df = print_data(n[0])\n",
    "                print(df.loc[0])\n",
    "                print(\"\\n\")\n",
    "                i += 1  \n",
    "_get_results_(\"TheIncredibleHulk.txt\")"
   ]
  },
  {
   "cell_type": "code",
   "execution_count": 9,
   "metadata": {
    "collapsed": false
   },
   "outputs": [
    {
     "name": "stdout",
     "output_type": "stream",
     "text": [
      "Game Name        Legends of Wrestlemania\n",
      "Publisher                            THQ\n",
      "GameSpotScore                          5\n",
      "Console                          Xbox360\n",
      "Genre                          Wrestling\n",
      "Name: 0, dtype: object\n",
      "\n",
      "\n",
      "Game Name        Street Fighter IV\n",
      "Publisher                   Capcom\n",
      "GameSpotScore                    9\n",
      "Console                        PS3\n",
      "Genre                  3D Fighting\n",
      "Name: 0, dtype: object\n",
      "\n",
      "\n",
      "Game Name        Fight Night Round 3\n",
      "Publisher                  EA Sports\n",
      "GameSpotScore                    8.2\n",
      "Console                          PS3\n",
      "Genre                         Boxing\n",
      "Name: 0, dtype: object\n",
      "\n",
      "\n",
      "Game Name        Virtua Fighter 5 Online\n",
      "Publisher                           Sega\n",
      "GameSpotScore                        8.5\n",
      "Console                          Xbox360\n",
      "Genre                        3D Fighting\n",
      "Name: 0, dtype: object\n",
      "\n",
      "\n",
      "Game Name        Mario Strikers Charged\n",
      "Publisher                      Nintendo\n",
      "GameSpotScore                       7.5\n",
      "Console                             Wii\n",
      "Genre                            Soccer\n",
      "Name: 0, dtype: object\n",
      "\n",
      "\n"
     ]
    }
   ],
   "source": [
    "def _get_results_(name):\n",
    "    index = -1\n",
    "    for x in list_index:\n",
    "        if name == x[0].split('/')[-1]:\n",
    "            index = x[1]\n",
    "    if not index == -1: \n",
    "        docsnscores = zip(_docs,score[:,index])\n",
    "        sorted_score = sorted(docsnscores, key=lambda x: x[1], reverse=True)\n",
    "        i = 1\n",
    "        game_exists= set()\n",
    "        for n in sorted_score:\n",
    "            if i >= 6:\n",
    "                break\n",
    "            if n[0].split('/')[-1] not in game_exists and not n[0].split('/')[-1] == name:\n",
    "                game_exists.add(n[0].split('/')[-1])\n",
    "                df = print_data(n[0])\n",
    "                print(df.loc[0])\n",
    "                print(\"\\n\")\n",
    "                i += 1  \n",
    "_get_results_(\"WWESmackDownvs.Raw2009.txt\")"
   ]
  },
  {
   "cell_type": "code",
   "execution_count": 10,
   "metadata": {
    "collapsed": false
   },
   "outputs": [
    {
     "name": "stdout",
     "output_type": "stream",
     "text": [
      "Game Name         Medal of Honor: Airborne\n",
      "Publisher                  Electronic Arts\n",
      "GameSpotScore                            7\n",
      "Console                                PS3\n",
      "Genre             Historic First-Person...\n",
      "Name: 0, dtype: object\n",
      "\n",
      "\n",
      "Game Name                     Call of Duty\n",
      "Publisher                       Activision\n",
      "GameSpotScore                            9\n",
      "Console                                 PC\n",
      "Genre             Historic First-Person...\n",
      "Name: 0, dtype: object\n",
      "\n",
      "\n",
      "Game Name        Brothers in Arms: Earned in Blood\n",
      "Publisher                                  Ubisoft\n",
      "GameSpotScore                                  8.7\n",
      "Console                                         PC\n",
      "Genre                     Historic First-Person...\n",
      "Name: 0, dtype: object\n",
      "\n",
      "\n",
      "Game Name                      Sniper Elite\n",
      "Publisher                             Namco\n",
      "GameSpotScore                           7.6\n",
      "Console                                  PC\n",
      "Genre             Historic Tactical Shooter\n",
      "Name: 0, dtype: object\n",
      "\n",
      "\n",
      "Game Name                           Haze\n",
      "Publisher                        Ubisoft\n",
      "GameSpotScore                          6\n",
      "Console                              PS3\n",
      "Genre             Modern First-Person...\n",
      "Name: 0, dtype: object\n",
      "\n",
      "\n"
     ]
    }
   ],
   "source": [
    "def _get_results_(name):\n",
    "    index = -1\n",
    "    for x in list_index:\n",
    "        if name == x[0].split('/')[-1]:\n",
    "            index = x[1]\n",
    "    if not index == -1: \n",
    "        docsnscores = zip(_docs,score[:,index])\n",
    "        sorted_score = sorted(docsnscores, key=lambda x: x[1], reverse=True)\n",
    "        i = 1\n",
    "        game_exists= set()\n",
    "        for n in sorted_score:\n",
    "            if i >= 6:\n",
    "                break\n",
    "            if n[0].split('/')[-1] not in game_exists and not n[0].split('/')[-1] == name:\n",
    "                game_exists.add(n[0].split('/')[-1])\n",
    "                df = print_data(n[0])\n",
    "                print(df.loc[0])\n",
    "                print(\"\\n\")\n",
    "                i += 1  \n",
    "_get_results_(\"CallofDuty3.txt\")"
   ]
  },
  {
   "cell_type": "code",
   "execution_count": null,
   "metadata": {
    "collapsed": true
   },
   "outputs": [],
   "source": []
  }
 ],
 "metadata": {
  "kernelspec": {
   "display_name": "Python 3",
   "language": "python",
   "name": "python3"
  },
  "language_info": {
   "codemirror_mode": {
    "name": "ipython",
    "version": 3
   },
   "file_extension": ".py",
   "mimetype": "text/x-python",
   "name": "python",
   "nbconvert_exporter": "python",
   "pygments_lexer": "ipython3",
   "version": "3.5.2"
  }
 },
 "nbformat": 4,
 "nbformat_minor": 2
}
